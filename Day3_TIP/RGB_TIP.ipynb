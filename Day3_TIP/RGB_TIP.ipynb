{
 "cells": [
  {
   "cell_type": "markdown",
   "metadata": {},
   "source": [
    "# Adding and extra channel to an RGB image"
   ]
  },
  {
   "cell_type": "markdown",
   "metadata": {},
   "source": [
    "Before you start, make sure that you have the correct kernel. Check if the kernel is \"Python 2\" (there is a legend in the upper right corner, below the \"Logout\" button). If it is not Python 2, select Kernel → Change Kernel → Python 2 in the menu bar.\n",
    "Make sure that you fill any place that says \"YOUR CODE HERE\" or \"YOUR ANSWER HERE\", and that you erase the line \"raise NotImplementedError()\" in the code cells."
   ]
  },
  {
   "cell_type": "markdown",
   "metadata": {},
   "source": [
    "# Introduccion\n",
    "In this excercise we are going to learn how to include information of a given wavelenght in an RGB image creating a GIF file.\n",
    "\n",
    "Before we manipulate an hyperspectral image, we will include the intesities of a single channel of an RGB image, let's say blue, and we will assign it an arbitrary color. \n",
    "We'll start creating a single frame with a given intensity. Later we'll explore a time depend function for this parameter. Finally, we'll use these function to create a GIF.\n"
   ]
  },
  {
   "cell_type": "markdown",
   "metadata": {},
   "source": [
    "As before, let's import modules/libraries"
   ]
  },
  {
   "cell_type": "code",
   "execution_count": null,
   "metadata": {
    "collapsed": false
   },
   "outputs": [],
   "source": [
    "import scipy.io\n",
    "import numpy as np\n",
    "from matplotlib import pyplot as plt\n",
    "from matplotlib import image as img\n",
    "import pandas as pd\n",
    "from scipy import interpolate\n",
    "import os\n",
    "import imageio\n",
    "import sys\n",
    "sys.path.append('../tools/')\n",
    "from Tools import wavelengthToRGB as wl2rgb\n",
    "%pylab inline"
   ]
  },
  {
   "cell_type": "markdown",
   "metadata": {},
   "source": [
    "## Warm up exercise:"
   ]
  },
  {
   "cell_type": "markdown",
   "metadata": {},
   "source": [
    "Load an image called Sample.jpg and and display it."
   ]
  },
  {
   "cell_type": "code",
   "execution_count": null,
   "metadata": {
    "collapsed": false,
    "deletable": false,
    "nbgrader": {
     "checksum": "c8b19a34b2c2eb7c9e37eaef275386c6",
     "grade": true,
     "grade_id": "1",
     "locked": false,
     "points": 1,
     "solution": true
    },
    "scrolled": true
   },
   "outputs": [],
   "source": [
    "# YOUR CODE HERE\n",
    "raise NotImplementedError()"
   ]
  },
  {
   "cell_type": "markdown",
   "metadata": {},
   "source": [
    "Store each channel in a separate variable. "
   ]
  },
  {
   "cell_type": "code",
   "execution_count": null,
   "metadata": {
    "collapsed": false,
    "deletable": false,
    "nbgrader": {
     "checksum": "563561e6a99e71594c777d552827a6e4",
     "grade": true,
     "grade_id": "2",
     "locked": false,
     "points": 1,
     "solution": true
    }
   },
   "outputs": [],
   "source": [
    "# YOUR CODE HERE\n",
    "raise NotImplementedError()"
   ]
  },
  {
   "cell_type": "markdown",
   "metadata": {},
   "source": [
    "Display, in grayscale, each channel separately.\n",
    "\n",
    "Hint: You might want to see the example in RGB_and_Synesthesi.ipynb"
   ]
  },
  {
   "cell_type": "markdown",
   "metadata": {},
   "source": [
    "#### A. Red channel:"
   ]
  },
  {
   "cell_type": "code",
   "execution_count": null,
   "metadata": {
    "collapsed": false,
    "deletable": false,
    "nbgrader": {
     "checksum": "b072b2a39e11152b25dd4c522dd4b0ef",
     "grade": true,
     "grade_id": "3",
     "locked": false,
     "points": 1,
     "solution": true
    }
   },
   "outputs": [],
   "source": [
    "# YOUR CODE HERE\n",
    "raise NotImplementedError()"
   ]
  },
  {
   "cell_type": "markdown",
   "metadata": {},
   "source": [
    "#### B.Green Channel:"
   ]
  },
  {
   "cell_type": "code",
   "execution_count": null,
   "metadata": {
    "collapsed": false,
    "deletable": false,
    "nbgrader": {
     "checksum": "ddeae2e0cebd70aadeee72494ee00fcd",
     "grade": true,
     "grade_id": "4-1",
     "locked": false,
     "points": 1,
     "solution": true
    }
   },
   "outputs": [],
   "source": [
    "# YOUR CODE HERE\n",
    "raise NotImplementedError()"
   ]
  },
  {
   "cell_type": "markdown",
   "metadata": {},
   "source": [
    "#### C. Blue channel:"
   ]
  },
  {
   "cell_type": "code",
   "execution_count": null,
   "metadata": {
    "collapsed": false,
    "deletable": false,
    "nbgrader": {
     "checksum": "fffc692723b5eb0613d4bd000692f960",
     "grade": true,
     "grade_id": "5",
     "locked": false,
     "points": 1,
     "solution": true
    }
   },
   "outputs": [],
   "source": [
    "# YOUR CODE HERE\n",
    "raise NotImplementedError()"
   ]
  },
  {
   "cell_type": "markdown",
   "metadata": {},
   "source": [
    "## Part I: "
   ]
  },
  {
   "cell_type": "markdown",
   "metadata": {},
   "source": [
    "Now we would like to display a single channel (for the case of an RGB image, let's say, the R channel) **but in the color of our choice** (it could be red color, but it could be some other color!  Later on when we do this on a hyperspectral image, it'll make sense why!)<br>\n",
    "\n",
    "For clarity's sake, we'll call the channel that we want to display the **\"Extra Channel\"**"
   ]
  },
  {
   "cell_type": "markdown",
   "metadata": {},
   "source": [
    "We're going do this step by step. <br>\n",
    "\n",
    "First define an rgb vector -- three numbers (r,g,b) that define a point in RGB color-space. This is the color we want to use to display the \"Extra Channel\"\n",
    "Call it rgb_vec.\n",
    "\n",
    "Hint: Remember that the rgb channels in this case have values [0.0,1.0]"
   ]
  },
  {
   "cell_type": "code",
   "execution_count": null,
   "metadata": {
    "collapsed": true,
    "deletable": false,
    "nbgrader": {
     "checksum": "1663f9f5ff27221d2d3503375f8de178",
     "grade": true,
     "grade_id": "6",
     "locked": false,
     "points": 1,
     "solution": true
    }
   },
   "outputs": [],
   "source": [
    "# YOUR CODE HERE\n",
    "raise NotImplementedError()\n",
    "### Print your vector"
   ]
  },
  {
   "cell_type": "markdown",
   "metadata": {},
   "source": [
    "#### Step 1. \n",
    "Now let's create a three matrices - R, G, B - with those values (r, g, b) at **every** pixel. "
   ]
  },
  {
   "cell_type": "code",
   "execution_count": null,
   "metadata": {
    "collapsed": false
   },
   "outputs": [],
   "source": [
    "# First make a 3-D matrix of zeros the correct shape (same shape as your image)\n",
    "uniform_color = np.zeros(my_img.shape)\n",
    "\n",
    "# We'll need this in a bit...\n",
    "single_channel_size = my_img.shape[:2]\n",
    "\n",
    "# Now substitute each of the three matrices with r*np.ones(single_channel_size) R, G, B \n",
    "for i in range(len(rgb_vec)):\n",
    "    uniform_color[:,:,i] = rgb_vec[i]*np.ones(single_channel_size)"
   ]
  },
  {
   "cell_type": "markdown",
   "metadata": {},
   "source": [
    "This creates an image of uniform_color of the same size as the image you're working with.\n",
    "\n",
    "Display this image."
   ]
  },
  {
   "cell_type": "code",
   "execution_count": null,
   "metadata": {
    "collapsed": false,
    "deletable": false,
    "nbgrader": {
     "checksum": "e148d81adf9935001769b94576632eeb",
     "grade": true,
     "grade_id": "7",
     "locked": false,
     "points": 1,
     "solution": true
    }
   },
   "outputs": [],
   "source": [
    "# YOUR CODE HERE\n",
    "raise NotImplementedError()"
   ]
  },
  {
   "cell_type": "markdown",
   "metadata": {},
   "source": [
    "Now that it works, wrap your code for **Step 1** as a python function called get_uniform_color_img:"
   ]
  },
  {
   "cell_type": "code",
   "execution_count": null,
   "metadata": {
    "collapsed": true,
    "deletable": false,
    "nbgrader": {
     "checksum": "81269b98772e97fc016914ae95ecc9be",
     "grade": true,
     "grade_id": "8",
     "locked": false,
     "points": 1,
     "solution": true
    }
   },
   "outputs": [],
   "source": [
    "def get_uniform_color_img(rgb_vec, image):\n",
    "    '''This function returns an image with an uniform color of shape of image\n",
    "    INPUT:\n",
    "        rgb_vec -> Vector with the color you want to print\n",
    "        image -> Size of the image you want to get '''\n",
    "    # First make a 3-D matrix of the correct shape (same shape as your image)\n",
    "    # YOUR CODE HERE\n",
    "    raise NotImplementedError()\n",
    "\n",
    "    #Now create three equivalent matrices, R, G, B \n",
    "    # YOUR CODE HERE\n",
    "    raise NotImplementedError()\n",
    "    \n",
    "    # return your matrix\n",
    "    # YOUR CODE HERE\n",
    "    raise NotImplementedError()\n",
    "    "
   ]
  },
  {
   "cell_type": "markdown",
   "metadata": {},
   "source": [
    "Now check if your function is working.\n",
    "1. Define another rgb_vector.\n",
    "2. Use your function to create a matrix of an uniform color of the size of img.shape.\n",
    "3. Display your result."
   ]
  },
  {
   "cell_type": "code",
   "execution_count": null,
   "metadata": {
    "collapsed": false,
    "deletable": false,
    "nbgrader": {
     "checksum": "54917395275aa52cb529b10096688ba7",
     "grade": true,
     "grade_id": "9",
     "locked": false,
     "points": 1,
     "solution": true
    }
   },
   "outputs": [],
   "source": [
    "# YOUR CODE HERE\n",
    "raise NotImplementedError()"
   ]
  },
  {
   "cell_type": "markdown",
   "metadata": {},
   "source": [
    "#### Step 2:\n",
    "Now, to display the \"Extra Channel\" in that color, we'll multiply each of uniform_color RGB matrices (element-wise) by the 2-D \"Extra Channel\" matrix. <br>\n",
    "\n",
    "For now, you can use the R channel of my_img as the \"Extra Channel\".\n",
    "\n",
    "To multiply the matrices element-wise, use the np.multiply(matrix_1, matrix_2) function. "
   ]
  },
  {
   "cell_type": "code",
   "execution_count": null,
   "metadata": {
    "collapsed": true
   },
   "outputs": [],
   "source": [
    "extra_channel = np.zeros(uniform_color.shape)\n",
    "for i in range(3):\n",
    "    extra_channel[:,:,i] = np.multiply(uniform_color[:,:,i], ch_red)\n",
    "#This normalization is important:\n",
    "extra_channel = extra_channel / np.float(extra_channel.max())\n",
    "# Why?"
   ]
  },
  {
   "cell_type": "code",
   "execution_count": null,
   "metadata": {
    "collapsed": false,
    "deletable": false,
    "nbgrader": {
     "checksum": "2e7a4ec8f1a75e6ed83a63eb4b0dc708",
     "grade": true,
     "grade_id": "10",
     "locked": false,
     "points": 1,
     "solution": true
    }
   },
   "outputs": [],
   "source": [
    "# Print this extra channel\n",
    "# YOUR CODE HERE\n",
    "raise NotImplementedError()"
   ]
  },
  {
   "cell_type": "markdown",
   "metadata": {},
   "source": [
    "Now that it works, wrap your code for **Step 2** in a python function called get_extra_channel_color and test it. "
   ]
  },
  {
   "cell_type": "code",
   "execution_count": null,
   "metadata": {
    "collapsed": true,
    "deletable": false,
    "nbgrader": {
     "checksum": "b0458c7c39c4cad435109d96a25a0984",
     "grade": true,
     "grade_id": "11",
     "locked": false,
     "points": 1,
     "solution": true
    }
   },
   "outputs": [],
   "source": [
    "# YOUR CODE HERE\n",
    "raise NotImplementedError()"
   ]
  },
  {
   "cell_type": "markdown",
   "metadata": {},
   "source": [
    "#### Step 3:\n",
    "One more thing we'll need is to get the (r,g,b) vector that corresponds to a particular wavelength. Your instructor Mati has written a handy function in the Tools.py module that does this. We're importing here as wl2rgb() for wavelengthToRGB()"
   ]
  },
  {
   "cell_type": "markdown",
   "metadata": {},
   "source": [
    "Use it to get the RGB vector corresponding to light of 490 nm. <br>\n",
    "\n",
    "Print the resulting rgb vector:"
   ]
  },
  {
   "cell_type": "code",
   "execution_count": null,
   "metadata": {
    "collapsed": false
   },
   "outputs": [],
   "source": [
    "wavelength = 490\n",
    "rgb_vec = wl2rgb(wavelength)\n",
    "print (rgb_vec)"
   ]
  },
  {
   "cell_type": "markdown",
   "metadata": {},
   "source": [
    "#### Step 4:\n",
    "\n",
    "Write in 5 lines of code the steps necessary to display the \"Extra Channel\" in an RGB color corresponding to the wavelength of your choice: "
   ]
  },
  {
   "cell_type": "code",
   "execution_count": null,
   "metadata": {
    "collapsed": false,
    "deletable": false,
    "nbgrader": {
     "checksum": "35bfa0a988245358672acbfbaf83c436",
     "grade": true,
     "grade_id": "12",
     "locked": false,
     "points": 1,
     "solution": true
    }
   },
   "outputs": [],
   "source": [
    "# YOUR CODE HERE\n",
    "raise NotImplementedError()"
   ]
  },
  {
   "cell_type": "markdown",
   "metadata": {},
   "source": [
    "## Part II: Interpolating between the original RGB image and the extra_channel_color image."
   ]
  },
  {
   "cell_type": "markdown",
   "metadata": {},
   "source": [
    "Let's write a function that at a time t (in the range $0 <= t <= 1$) returns: <br>\n",
    "\n",
    "$$ Image(t) = (RGBImage)\\times(1-t) + ExtraChannelColor\\times t$$ "
   ]
  },
  {
   "cell_type": "markdown",
   "metadata": {},
   "source": [
    "NOTE: You'll need to normalize both the original RGB image and Image(t) by their corresponding maximum pixel values."
   ]
  },
  {
   "cell_type": "code",
   "execution_count": null,
   "metadata": {
    "collapsed": false,
    "deletable": false,
    "nbgrader": {
     "checksum": "6707fbbd46fa9cd27f06d126ecf1018b",
     "grade": true,
     "grade_id": "13",
     "locked": false,
     "points": 1,
     "solution": true
    }
   },
   "outputs": [],
   "source": [
    "def image_interpolation_t(RGBImage, ExtraChannelColor, t):\n",
    "    '''This function returns the image interpolation for a given time t\n",
    "    INPUTS:\n",
    "        RGBImage -> Image of RGB where we area going to add the extra image\n",
    "        ExtraChannelColor -> Image with an extrachannel.\n",
    "        t -> a float, time\n",
    "    OUTPUT:\n",
    "        image_t -> Image for a given time'''\n",
    "    ### Complete the function.\n",
    "    # 1. Normalize the RGB image.\n",
    "    # 2. Get the Image(t).\n",
    "    # 3. Normalize your new image called it image_t\n",
    "    # YOUR CODE HERE\n",
    "    raise NotImplementedError()\n",
    "    return image_t"
   ]
  },
  {
   "cell_type": "markdown",
   "metadata": {},
   "source": [
    "Test your function at a couple of time-point (e.g. t = 0, 0.5, 1) and display the \"frame\" at that time point. What do you expect to see if it is working correctly? "
   ]
  },
  {
   "cell_type": "code",
   "execution_count": null,
   "metadata": {
    "collapsed": false,
    "deletable": false,
    "nbgrader": {
     "checksum": "3614583e320b87e3a7c770f5f6141bc9",
     "grade": true,
     "grade_id": "14",
     "locked": false,
     "points": 1,
     "solution": true
    }
   },
   "outputs": [],
   "source": [
    "# YOUR CODE HERE\n",
    "raise NotImplementedError()"
   ]
  },
  {
   "cell_type": "markdown",
   "metadata": {},
   "source": [
    "### Part III: making an animation movie out of the interpolated images."
   ]
  },
  {
   "cell_type": "markdown",
   "metadata": {},
   "source": [
    "Now we're going to get the interpolated images (frames) for different values of t. <br>\n",
    "\n",
    "We'll save each as a separate file. \n",
    "\n",
    "And then we'll use a python library to create an animation out of the set of image frames. "
   ]
  },
  {
   "cell_type": "code",
   "execution_count": null,
   "metadata": {
    "collapsed": true
   },
   "outputs": [],
   "source": [
    "path_to_save = './animations/'\n",
    "t_vec = np.arange(0,1.1,0.5) \n",
    "images_all = []"
   ]
  },
  {
   "cell_type": "markdown",
   "metadata": {},
   "source": [
    "#####  Write a for loop that iterates over the t - values. At each value, create the interpolated image and append it to a list of images. "
   ]
  },
  {
   "cell_type": "code",
   "execution_count": null,
   "metadata": {
    "collapsed": false,
    "deletable": false,
    "nbgrader": {
     "checksum": "b0ccfdd46ed7daee501c75d5b4ef1f40",
     "grade": true,
     "grade_id": "15",
     "locked": false,
     "points": 1,
     "solution": true
    }
   },
   "outputs": [],
   "source": [
    "# YOUR CODE HERE\n",
    "raise NotImplementedError()"
   ]
  },
  {
   "cell_type": "markdown",
   "metadata": {},
   "source": [
    "##### Use imageio to save the list of images as a movie in .gif format. \n",
    "Hint: Check the documentation of the class get_writer"
   ]
  },
  {
   "cell_type": "code",
   "execution_count": null,
   "metadata": {
    "collapsed": false,
    "deletable": false,
    "nbgrader": {
     "checksum": "5c74e23e9c2278db5b0a9ec1019dca52",
     "grade": true,
     "grade_id": "16",
     "locked": false,
     "points": 1,
     "solution": true
    }
   },
   "outputs": [],
   "source": [
    "fps_movie = 40\n",
    "movie_name = os.path.join(path_to_save, 'animation_test' + str(fps_movie) + '.gif')\n",
    "\n",
    "# YOUR CODE HERE\n",
    "raise NotImplementedError()\n"
   ]
  },
  {
   "cell_type": "markdown",
   "metadata": {},
   "source": [
    "##### Put the three steps above in a single python function: "
   ]
  },
  {
   "cell_type": "code",
   "execution_count": null,
   "metadata": {
    "collapsed": true,
    "deletable": false,
    "nbgrader": {
     "checksum": "1e74f139e002766695da46cdbdec4282",
     "grade": true,
     "grade_id": "17",
     "locked": false,
     "points": 1,
     "solution": true
    }
   },
   "outputs": [],
   "source": [
    "def make_interpolation_movie(t_vec, RGBImage, ExtraChannelColor, \n",
    "                             FPS = 40, movie_name_default = 'animation_test'):\n",
    "    '''This function returns a movie with 3'''\n",
    "    # YOUR CODE HERE\n",
    "    raise NotImplementedError()"
   ]
  },
  {
   "cell_type": "markdown",
   "metadata": {},
   "source": [
    "Now we'll test your function"
   ]
  },
  {
   "cell_type": "code",
   "execution_count": null,
   "metadata": {
    "collapsed": false
   },
   "outputs": [],
   "source": [
    "t_vec = np.arange(0,1.1,0.05)\n",
    "my_fps = 30\n",
    "make_interpolation_movie( t_vec, my_img, extra_channel_color, FPS = my_fps)"
   ]
  },
  {
   "cell_type": "markdown",
   "metadata": {},
   "source": [
    "#### Putting everything up to now together: "
   ]
  },
  {
   "cell_type": "code",
   "execution_count": null,
   "metadata": {
    "collapsed": false
   },
   "outputs": [],
   "source": [
    "#Input Parameters \n",
    "t_vec = np.arange(0,1.1,0.05)\n",
    "my_fps = 10\n",
    "wavelength = 460\n",
    "extra_channel = ch_blue\n",
    "\n",
    "#Call the necessary functions: \n",
    "rgb_vec = wl2rgb(wavelength)\n",
    "uniform_color_img = get_uniform_color_img(rgb_vec, my_img)\n",
    "extra_channel_color = get_extra_channel_color(uniform_color_img, extra_channel)\n",
    "make_interpolation_movie( t_vec, my_img, extra_channel_color, FPS = my_fps)\n"
   ]
  },
  {
   "cell_type": "markdown",
   "metadata": {},
   "source": [
    "### Part IV:\n",
    "\n",
    "Let's make this cyclical! \n"
   ]
  },
  {
   "cell_type": "code",
   "execution_count": null,
   "metadata": {
    "collapsed": true
   },
   "outputs": [],
   "source": [
    "from scipy import signal"
   ]
  },
  {
   "cell_type": "code",
   "execution_count": null,
   "metadata": {
    "collapsed": true
   },
   "outputs": [],
   "source": [
    "num_cycles = 5\n",
    "cycle = signal.triang(20, sym = 0)\n",
    "t_vec = np.array(num_cycles * list(cycle) )"
   ]
  },
  {
   "cell_type": "code",
   "execution_count": null,
   "metadata": {
    "collapsed": false,
    "deletable": false,
    "nbgrader": {
     "checksum": "07609d9dc484198abdba3fae4b636f79",
     "grade": true,
     "grade_id": "18",
     "locked": false,
     "points": 1,
     "solution": true
    }
   },
   "outputs": [],
   "source": [
    "# Input Parameters \n",
    "my_fps = 10\n",
    "wavelength = 660\n",
    "extra_channel = ch_red\n",
    "\n",
    "#Call the necessary functions: \n",
    "# YOUR CODE HERE\n",
    "raise NotImplementedError()"
   ]
  },
  {
   "cell_type": "markdown",
   "metadata": {},
   "source": [
    "Great, we are ready to use your functions in an hyperspectral image!!"
   ]
  },
  {
   "cell_type": "code",
   "execution_count": null,
   "metadata": {
    "collapsed": true
   },
   "outputs": [],
   "source": []
  }
 ],
 "metadata": {
  "anaconda-cloud": {},
  "kernelspec": {
   "display_name": "Python [default]",
   "language": "python",
   "name": "python2"
  },
  "language_info": {
   "codemirror_mode": {
    "name": "ipython",
    "version": 2
   },
   "file_extension": ".py",
   "mimetype": "text/x-python",
   "name": "python",
   "nbconvert_exporter": "python",
   "pygments_lexer": "ipython2",
   "version": "2.7.12"
  }
 },
 "nbformat": 4,
 "nbformat_minor": 0
}
