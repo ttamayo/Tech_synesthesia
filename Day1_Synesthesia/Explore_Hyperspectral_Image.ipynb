{
 "cells": [
  {
   "cell_type": "markdown",
   "metadata": {},
   "source": [
    "Before you start, make sure that you have the correct kernel. Check if the kernel is \"Python 2\" (there is a legend in the upper right corner, below the \"Logout\" button). If it is not Python 2, select Kernel → Change Kernel → Python 2 in the menu bar.\n",
    "Make sure that you fill any place that says \"YOUR CODE HERE\" or \"YOUR ANSWER HERE\", and that you erase the line \"raise NotImplementedError()\" in the code cells."
   ]
  },
  {
   "cell_type": "markdown",
   "metadata": {},
   "source": [
    "# Introduction: "
   ]
  },
  {
   "cell_type": "markdown",
   "metadata": {},
   "source": [
    "In this Jupyter notebook, you will play around with using Python to manipulate and explore hyperspectral images. <br>\n",
    "\n",
    "While a typical RGB image has 3 channels (red, green, and blue), hyperspectral images have **many** channels, one for a different wavelength. In fact, a hyperspectral image lets you analyze an entire light **spectrum** at each pixel.<br>\n",
    "\n",
    "In this notebook, we've written a bunch of python functions that will help you read, visualize, and explore the images. Take a look at them and familiarize yourself with them in the **Function definitions** section. "
   ]
  },
  {
   "cell_type": "markdown",
   "metadata": {},
   "source": [
    "# Import modules/libraries"
   ]
  },
  {
   "cell_type": "code",
   "execution_count": null,
   "metadata": {
    "collapsed": false
   },
   "outputs": [],
   "source": [
    "import numpy as np\n",
    "from matplotlib import pyplot as plt\n",
    "import pickle as pkl\n",
    "import os\n",
    "import imageio\n",
    "import sys\n",
    "sys.path.append('../tools/')\n",
    "from Tools import *\n",
    "%load_ext autoreload\n",
    "%autoreload 2\n",
    "%pylab inline"
   ]
  },
  {
   "cell_type": "markdown",
   "metadata": {},
   "source": [
    "# Function definitions: "
   ]
  },
  {
   "cell_type": "code",
   "execution_count": null,
   "metadata": {
    "collapsed": true
   },
   "outputs": [],
   "source": [
    "def load_PARC_image(file_name):\n",
    "    # This function reads a .bin file from the PARC hyperspectral camera\n",
    "    # and loads it into python as a 3-D matrix (numpy array)\n",
    "    my_img = np.fromfile(file_name, dtype = np.uint16)\n",
    "    my_img = np.reshape(my_img, (141,488,648))\n",
    "    return my_img\n",
    "\n",
    "def get_waves(my_img, resolution = 5, init_nm = 400):\n",
    "    # given a PARC hyperspectral camera image as input\n",
    "    # returns the range of wavelengths to which each slice/matrix corresponds. \n",
    "    waves = np.arange(init_nm, init_nm+resolution*my_img.shape[0], resolution)\n",
    "    return waves\n",
    "\n",
    "def get_nm_ind(waves, nm):\n",
    "    # Returns the wavelength available in a PARC hyperspectral camera image\n",
    "    # and its corresponding index closest\n",
    "    # To a wavelength of interest. \n",
    "    # ind_nm, nm = get_nm_ind(waves, nm)\n",
    "    return [(i,waves[i]) for i in range(len(waves)) if \n",
    "            np.abs(waves[i]-nm)==np.min(np.abs(waves-nm))][0]\n",
    "\n",
    "def display_full_single_channel(my_img, ind_nm, nm, save = False, saveDir = 'image_dir'):\n",
    "    # This function displays a single channel/wavelength/slice\n",
    "    # in grayscale\n",
    "    # ind_nm and nm can be obtained from \n",
    "    # ind_nm, nm = get_nm_ind(waves, nm)\n",
    "    plt.figure(figsize = (10,10))\n",
    "    single_slice = my_img[ind_nm,:,:]\n",
    "    plt.imshow(single_slice, cmap = \"gray\")\n",
    "    plt.title('Single Channel: ' + str(int(nm))+\"nm\", fontsize = 24)\n",
    "\n",
    "    if save: \n",
    "        path_to_file = os.path.join(saveDir, 'single_channel_'+str(nm)+'_nm.pkl')\n",
    "        pkl.dump(single_slice, open(path_to_file, \"wb\"))\n",
    "    \n",
    "    \n",
    "def draw_box(ax, rlim, clim):\n",
    "    # This function is used to draw a red box around a region \n",
    "    # that we'll zoom into. \n",
    "    \n",
    "    xbox = np.linspace(clim[0], clim[1])\n",
    "    ybox = np.linspace(rlim[0], rlim[1])\n",
    "    ax.plot( xbox , rlim[0]*np.ones(len(xbox)),'r' )\n",
    "    ax.plot( xbox , rlim[1]*np.ones(len(xbox)),'r' )\n",
    "    ax.plot( clim[0]*np.ones(len(ybox)), ybox ,'r' )\n",
    "    ax.plot( clim[1]*np.ones(len(ybox)), ybox ,'r' )\n",
    "    \n",
    "def display_part_single_channel(my_img, ind_nm, nm, rlim, clim, fix_tics = True):\n",
    "    # This function displays in grayscale a single channel \n",
    "    # corresponding to wavelength nm (and index ind_nm)\n",
    "    # it zooms in to a region specified by the coordinate range rlim and clim\n",
    "    \n",
    "    fig, (ax1,ax2) = plt.subplots(1,2, figsize = (14,8))\n",
    "    ax1.imshow(my_img[ind_nm,:,:], cmap = \"gray\")\n",
    "    draw_box(ax1, rlim, clim)\n",
    "    ax1.set_xlim(0,my_img.shape[2])\n",
    "    ax1.set_ylim(my_img.shape[1],0)\n",
    "\n",
    "    ax2.imshow(my_img[ind_nm,rlim[0]:rlim[1],clim[0]:clim[1]], cmap = \"gray\")\n",
    "    if fix_tics:\n",
    "        a=ax2.get_yticks().tolist()\n",
    "        new_tics = [ int(yt) for yt in np.linspace(rlim[0], rlim[1], len(a))]\n",
    "        tkn = ax2.set_yticklabels(new_tics)\n",
    "\n",
    "        old_tics=ax2.get_xticks().tolist()\n",
    "        new_tics = [ int(xt) for xt in np.linspace(clim[0], clim[1], len(old_tics))]\n",
    "        tkn = ax2.set_xticklabels(new_tics)\n",
    "        \n",
    "def display_single_channel_centered_at(my_img, ind_nm, nm, rcenter, ccenter, wd=20,fix_tics = True):\n",
    "    # This function displays in grayscale a single channel \n",
    "    # corresponding to wavelength nm (and index ind_nm)\n",
    "    # it zooms in to a region specified by the pixel with coordinates \n",
    "    # rcenter and ccenter. \n",
    "    \n",
    "    fig, (ax1,ax2) = plt.subplots(1,2, figsize = (14,8))\n",
    "    ax1.imshow(my_img[ind_nm,:,:], cmap = \"gray\")\n",
    "    draw_box(ax1, [rcenter-wd, rcenter+wd], [ccenter-wd, ccenter+wd])\n",
    "    ax1.set_xlim(0,my_img.shape[2])\n",
    "    ax1.set_ylim(my_img.shape[1],0)\n",
    "    \n",
    "    ax2.imshow(my_img[ind_nm,rcenter-wd:rcenter+wd,ccenter-wd:ccenter+wd], cmap = \"gray\")\n",
    "    if fix_tics:\n",
    "        a=ax2.get_yticks().tolist()\n",
    "        new_tics = [ int(yt) for yt in np.linspace(rcenter-wd, rcenter+wd, len(a))]\n",
    "        tkn = ax2.set_yticklabels(new_tics)\n",
    "\n",
    "        old_tics=ax2.get_xticks().tolist()\n",
    "        new_tics = [ int(xt) for xt in np.linspace(ccenter-wd, ccenter+wd, len(old_tics))]\n",
    "        tkn = ax2.set_xticklabels(new_tics)\n",
    "        \n",
    "def get_max_wavelength(spectrum, waves):\n",
    "    # This function finds the wavelength with the \n",
    "    # highest intensity in a spectrum\n",
    "    \n",
    "    ind_max = [i for i in range(len(spectrum)) if spectrum[i] == np.max(spectrum)][0]\n",
    "    return int(waves[ind_max])\n",
    "        \n",
    "def single_pxl_spectrum(my_img, ind_nm, nm, rcenter, ccenter, wd = 40):\n",
    "    # This function plots the full spectrum for a single pixel\n",
    "    # with coordinates rcenter, ccenter\n",
    "    \n",
    "    display_single_channel_centered_at(my_img, ind_nm, nm, rcenter, ccenter, wd)\n",
    "    \n",
    "    plt.figure(figsize = (6,6)) \n",
    "\n",
    "    waves = get_waves(my_img)\n",
    "    spectrum = my_img[:, rcenter, ccenter]\n",
    "    max_freq = get_max_wavelength(spectrum, waves)\n",
    "    \n",
    "    plt.plot(waves, spectrum, lw = 3)\n",
    "    plt.xlabel('Wavelength (nm)', fontsize = 24)\n",
    "    plt.ylabel('Intensity (units)', fontsize = 24)\n",
    "\n",
    "    plt.title('Max. Frequency = ' + str(max_freq) + ' nm', fontsize = 24)\n",
    "    \n",
    "def hyperspectral_2_RGB(my_img, waves):\n",
    "    ### This function takes a hyperspectral image\n",
    "    ### and \"converts\" it to an RGB representation\n",
    "    ### it uses some of the functions in the Tools.py library\n",
    "    ### written by Teresa Tamayo. \n",
    "    my_img_rolled = np.rollaxis(np.rollaxis(my_img,1,0),2,1)\n",
    "    rgb_image = eye_sensitivity(my_img_rolled,waves,tranformation='linear')\n",
    "    rgb_image *=1.5\n",
    "    max_pixel = np.max(rgb_image)\n",
    "    rgb_image_final = rgb_image/max_pixel**1\n",
    "    return rgb_image_final"
   ]
  },
  {
   "cell_type": "markdown",
   "metadata": {},
   "source": [
    "With the last functions complete the following cells."
   ]
  },
  {
   "cell_type": "markdown",
   "metadata": {},
   "source": [
    "# Read in Hyperspectral image"
   ]
  },
  {
   "cell_type": "code",
   "execution_count": null,
   "metadata": {
    "collapsed": false,
    "deletable": false,
    "nbgrader": {
     "checksum": "b09e9dd522cc24c448fb4366c4ec444f",
     "grade": true,
     "grade_id": "1",
     "locked": false,
     "points": 1,
     "solution": true
    }
   },
   "outputs": [],
   "source": [
    "## This is the path of the file\n",
    "file_name = 'image_dir/LEDs_4.bin'\n",
    "# YOUR CODE HERE\n",
    "raise NotImplementedError()"
   ]
  },
  {
   "cell_type": "markdown",
   "metadata": {},
   "source": [
    "# Get the range of wavelengths for which we have data:"
   ]
  },
  {
   "cell_type": "code",
   "execution_count": null,
   "metadata": {
    "collapsed": false,
    "deletable": false,
    "nbgrader": {
     "checksum": "0e3eac65612327050366ad1c9ae9a4af",
     "grade": true,
     "grade_id": "2",
     "locked": false,
     "points": 1,
     "solution": true
    }
   },
   "outputs": [],
   "source": [
    "# YOUR CODE HERE\n",
    "raise NotImplementedError()\n",
    "print(waves.min(), waves.max())"
   ]
  },
  {
   "cell_type": "markdown",
   "metadata": {},
   "source": [
    "# Display, in grayscale, a single slice/channel/wavelength of the hyperspectral image:"
   ]
  },
  {
   "cell_type": "code",
   "execution_count": null,
   "metadata": {
    "collapsed": false,
    "deletable": false,
    "nbgrader": {
     "checksum": "c1d15d443118043c33a4090868bbda36",
     "grade": true,
     "grade_id": "3",
     "locked": false,
     "points": 1,
     "solution": true
    }
   },
   "outputs": [],
   "source": [
    "nm = 660\n",
    "# YOUR CODE HERE\n",
    "raise NotImplementedError()\n"
   ]
  },
  {
   "cell_type": "markdown",
   "metadata": {},
   "source": [
    "# Zoom-in on an interesting region to look at in more detail by specifying a range of x and y values:"
   ]
  },
  {
   "cell_type": "code",
   "execution_count": null,
   "metadata": {
    "collapsed": false
   },
   "outputs": [],
   "source": [
    "rlim = [180,260]\n",
    "clim = [300,500]\n",
    "display_part_single_channel(my_img, ind_nm, nm, rlim, clim)\n"
   ]
  },
  {
   "cell_type": "markdown",
   "metadata": {},
   "source": [
    "# Zoom in on a region by specifying the central pixel:"
   ]
  },
  {
   "cell_type": "code",
   "execution_count": null,
   "metadata": {
    "collapsed": false,
    "deletable": false,
    "nbgrader": {
     "checksum": "e08bfb7d2413e8d812e6d59fd8ce24b6",
     "grade": true,
     "grade_id": "4",
     "locked": false,
     "points": 1,
     "solution": true
    }
   },
   "outputs": [],
   "source": [
    "# YOUR CODE HERE\n",
    "raise NotImplementedError()"
   ]
  },
  {
   "cell_type": "markdown",
   "metadata": {},
   "source": [
    "# Plot pixel spectrum for the different LED strips:"
   ]
  },
  {
   "cell_type": "markdown",
   "metadata": {},
   "source": [
    "#### Bottom strip:"
   ]
  },
  {
   "cell_type": "code",
   "execution_count": null,
   "metadata": {
    "collapsed": false,
    "deletable": false,
    "nbgrader": {
     "checksum": "fffc692723b5eb0613d4bd000692f960",
     "grade": true,
     "grade_id": "5",
     "locked": false,
     "points": 1,
     "solution": true
    }
   },
   "outputs": [],
   "source": [
    "# YOUR CODE HERE\n",
    "raise NotImplementedError()"
   ]
  },
  {
   "cell_type": "markdown",
   "metadata": {},
   "source": [
    "#### Second strip from the bottom:"
   ]
  },
  {
   "cell_type": "code",
   "execution_count": null,
   "metadata": {
    "collapsed": false,
    "deletable": false,
    "nbgrader": {
     "checksum": "d5c2e61972dd8c5b2ecef90fe4449d72",
     "grade": true,
     "grade_id": "6",
     "locked": false,
     "points": 1,
     "solution": true
    }
   },
   "outputs": [],
   "source": [
    "# YOUR CODE HERE\n",
    "raise NotImplementedError()"
   ]
  },
  {
   "cell_type": "markdown",
   "metadata": {},
   "source": [
    "#### Third strip from the bottom:"
   ]
  },
  {
   "cell_type": "code",
   "execution_count": null,
   "metadata": {
    "collapsed": false,
    "deletable": false,
    "nbgrader": {
     "checksum": "e148d81adf9935001769b94576632eeb",
     "grade": true,
     "grade_id": "7",
     "locked": false,
     "points": 1,
     "solution": true
    }
   },
   "outputs": [],
   "source": [
    "# YOUR CODE HERE\n",
    "raise NotImplementedError()"
   ]
  },
  {
   "cell_type": "markdown",
   "metadata": {},
   "source": [
    "#### Top LED strip:"
   ]
  },
  {
   "cell_type": "code",
   "execution_count": null,
   "metadata": {
    "collapsed": false,
    "deletable": false,
    "nbgrader": {
     "checksum": "30422743f0e2b461bf0ba34ee3095953",
     "grade": true,
     "grade_id": "8",
     "locked": false,
     "points": 1,
     "solution": true
    }
   },
   "outputs": [],
   "source": [
    "# YOUR CODE HERE\n",
    "raise NotImplementedError()"
   ]
  },
  {
   "cell_type": "markdown",
   "metadata": {},
   "source": [
    "#### Display and save slices/channels/wavelengths of interest:"
   ]
  },
  {
   "cell_type": "code",
   "execution_count": null,
   "metadata": {
    "collapsed": false,
    "deletable": false,
    "nbgrader": {
     "checksum": "54917395275aa52cb529b10096688ba7",
     "grade": true,
     "grade_id": "9",
     "locked": false,
     "points": 1,
     "solution": true
    },
    "scrolled": false
   },
   "outputs": [],
   "source": [
    "# YOUR CODE HERE\n",
    "raise NotImplementedError()"
   ]
  },
  {
   "cell_type": "markdown",
   "metadata": {},
   "source": [
    "# Based on the spectrum, what color do you think are these LED strips? <br>"
   ]
  },
  {
   "cell_type": "markdown",
   "metadata": {
    "collapsed": true
   },
   "source": [
    "# And how do we make a \"regular\" RGB image to display in the computer in \"color\"?"
   ]
  },
  {
   "cell_type": "markdown",
   "metadata": {},
   "source": [
    "If you have enough time, your instructors will explain how the following works: "
   ]
  },
  {
   "cell_type": "markdown",
   "metadata": {},
   "source": [
    "#### Create a \"fake\" RGB image from the hyperspectral data, and visualize it. "
   ]
  },
  {
   "cell_type": "code",
   "execution_count": null,
   "metadata": {
    "collapsed": false
   },
   "outputs": [],
   "source": [
    "rgb_image_final = hyperspectral_2_RGB(my_img, waves)\n",
    "\n",
    "## Display the image\n",
    "plt.imshow(rgb_image_final)  \n",
    "    "
   ]
  },
  {
   "cell_type": "markdown",
   "metadata": {},
   "source": [
    "#### Save the RGB image to file, in the directory \"image_dir\". You'll use it when you run the synesthesia pygame code using the hyperspectral image. "
   ]
  },
  {
   "cell_type": "code",
   "execution_count": null,
   "metadata": {
    "collapsed": false
   },
   "outputs": [],
   "source": [
    "save_path_file = os.path.join('image_dir', 'LEDs_4_RGB.png')\n",
    "imageio.imwrite(save_path_file, rgb_image_final)"
   ]
  },
  {
   "cell_type": "code",
   "execution_count": null,
   "metadata": {
    "collapsed": true
   },
   "outputs": [],
   "source": []
  },
  {
   "cell_type": "code",
   "execution_count": null,
   "metadata": {
    "collapsed": true
   },
   "outputs": [],
   "source": []
  },
  {
   "cell_type": "code",
   "execution_count": null,
   "metadata": {
    "collapsed": true
   },
   "outputs": [],
   "source": []
  }
 ],
 "metadata": {
  "anaconda-cloud": {},
  "kernelspec": {
   "display_name": "Python [Root]",
   "language": "python",
   "name": "Python [Root]"
  },
  "language_info": {
   "codemirror_mode": {
    "name": "ipython",
    "version": 3
   },
   "file_extension": ".py",
   "mimetype": "text/x-python",
   "name": "python",
   "nbconvert_exporter": "python",
   "pygments_lexer": "ipython3",
   "version": "3.5.2"
  }
 },
 "nbformat": 4,
 "nbformat_minor": 0
}
