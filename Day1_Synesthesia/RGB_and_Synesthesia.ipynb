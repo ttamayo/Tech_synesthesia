{
 "cells": [
  {
   "cell_type": "markdown",
   "metadata": {},
   "source": [
    "Before you start, make sure that you have the correct kernel. Check if the kernel is \"Python 2\" (there is a legend in the upper right corner, below the \"Logout\" button). If it is not Python 2, select Kernel → Change Kernel → Python 2 in the menu bar.\n",
    "Make sure that you fill any place that says \"YOUR CODE HERE\" or \"YOUR ANSWER HERE\", and that you erase the line \"raise NotImplementedError()\" in the code cells."
   ]
  },
  {
   "cell_type": "markdown",
   "metadata": {},
   "source": [
    "# Introduction: "
   ]
  },
  {
   "cell_type": "markdown",
   "metadata": {},
   "source": [
    "Today we will use Python to \"hear the color\" of an image. We will do two consecutive exercises: \n",
    "\n",
    "1. First, we'll load a regular RGB image and we'll map each of the three color channels to a particular sound. By clicking on each pixel, you'll hear the three sounds (colors), with the volume of each sound proportional to the intensity of its corresponding color channel. <br><br>\n",
    "\n",
    "2. Next, we'll load a hyperspectral image into Python. We will create an RGB representation of the hyperspectral image (so that we can visualize it in the computer screen.) Then, we'll map additional channels of different wavelengths to different sounds, with the volume of each sound proportional to the intensity of its corresponding \"extra\" channel. \n",
    "\n",
    "In addition to the usual image and array manipulations, we'll be using a Python library  called [PyGame](http://www.pygame.org/wiki/about) for computer game programming. PyGame will let us interact with an image and emit sounds in response to a mouse click. \n",
    "\n",
    "In preparation for the final python code, we will do several introductory exercises in this Jupyter notebook. When we're ready, we will put it all together in a Python script using the [Sublime Text Editor](https://www.sublimetext.com/). This script - unlike the cells in this and other Jupyter notebooks -  will be executed from the command line (terminal)."
   ]
  },
  {
   "cell_type": "markdown",
   "metadata": {},
   "source": [
    "# Import modules"
   ]
  },
  {
   "cell_type": "markdown",
   "metadata": {},
   "source": [
    "Discuss with your instructors what's each module / library is used for."
   ]
  },
  {
   "cell_type": "code",
   "execution_count": null,
   "metadata": {
    "collapsed": false
   },
   "outputs": [],
   "source": [
    "import pygame\n",
    "import matplotlib.image as mpimg\n",
    "import numpy as np\n",
    "import time\n",
    "import matplotlib.pyplot as plt"
   ]
  },
  {
   "cell_type": "code",
   "execution_count": null,
   "metadata": {
    "collapsed": false
   },
   "outputs": [],
   "source": [
    "%pylab inline"
   ]
  },
  {
   "cell_type": "markdown",
   "metadata": {},
   "source": [
    "# Loading images and basic array and channel manipulations:"
   ]
  },
  {
   "cell_type": "markdown",
   "metadata": {},
   "source": [
    "#### Load an image file called Sample.jpg that's stored in the image_dir directory: "
   ]
  },
  {
   "cell_type": "code",
   "execution_count": null,
   "metadata": {
    "collapsed": false,
    "deletable": false,
    "nbgrader": {
     "checksum": "c8b19a34b2c2eb7c9e37eaef275386c6",
     "grade": true,
     "grade_id": "1",
     "locked": false,
     "points": 1,
     "solution": true
    }
   },
   "outputs": [],
   "source": [
    "# YOUR CODE HERE\n",
    "raise NotImplementedError()"
   ]
  },
  {
   "cell_type": "markdown",
   "metadata": {},
   "source": [
    "#### What are the dimensions of this image file?"
   ]
  },
  {
   "cell_type": "code",
   "execution_count": null,
   "metadata": {
    "collapsed": false,
    "deletable": false,
    "nbgrader": {
     "checksum": "563561e6a99e71594c777d552827a6e4",
     "grade": true,
     "grade_id": "2",
     "locked": false,
     "points": 1,
     "solution": true
    }
   },
   "outputs": [],
   "source": [
    "# YOUR CODE HERE\n",
    "raise NotImplementedError()"
   ]
  },
  {
   "cell_type": "markdown",
   "metadata": {},
   "source": [
    "What do those three numbers mean?"
   ]
  },
  {
   "cell_type": "markdown",
   "metadata": {},
   "source": [
    "Store the height and width of the image: "
   ]
  },
  {
   "cell_type": "code",
   "execution_count": null,
   "metadata": {
    "collapsed": true
   },
   "outputs": [],
   "source": [
    "height = my_image.shape[0]\n",
    "width = my_image.shape[1]"
   ]
  },
  {
   "cell_type": "markdown",
   "metadata": {},
   "source": [
    "#### Let's display the image:"
   ]
  },
  {
   "cell_type": "code",
   "execution_count": null,
   "metadata": {
    "collapsed": false,
    "deletable": false,
    "nbgrader": {
     "checksum": "b072b2a39e11152b25dd4c522dd4b0ef",
     "grade": true,
     "grade_id": "3",
     "locked": false,
     "points": 1,
     "solution": true
    }
   },
   "outputs": [],
   "source": [
    "# YOUR CODE HERE\n",
    "raise NotImplementedError()"
   ]
  },
  {
   "cell_type": "markdown",
   "metadata": {},
   "source": [
    "#### Store each of the three channels (Red, Green, Blue) separately as different variables: <br>\n",
    "\n",
    "We'll do the first one for you: "
   ]
  },
  {
   "cell_type": "code",
   "execution_count": null,
   "metadata": {
    "collapsed": true,
    "deletable": false,
    "nbgrader": {
     "checksum": "54dc50d721b8fe8df85ca32c02b2c2a6",
     "grade": true,
     "grade_id": "4",
     "locked": false,
     "points": 1,
     "solution": true
    }
   },
   "outputs": [],
   "source": [
    "red_channel = my_image[:,:,0]\n",
    "# YOUR CODE HERE\n",
    "raise NotImplementedError()"
   ]
  },
  {
   "cell_type": "markdown",
   "metadata": {},
   "source": [
    "Get the maximum value of each channel. Store in separate variables:"
   ]
  },
  {
   "cell_type": "code",
   "execution_count": null,
   "metadata": {
    "collapsed": true,
    "deletable": false,
    "nbgrader": {
     "checksum": "3443e8de88eef25565c85a6120b681b6",
     "grade": true,
     "grade_id": "5",
     "locked": false,
     "points": 1,
     "solution": true
    }
   },
   "outputs": [],
   "source": [
    "max_red = np.max(red_channel)\n",
    "# YOUR CODE HERE\n",
    "raise NotImplementedError()"
   ]
  },
  {
   "cell_type": "markdown",
   "metadata": {},
   "source": [
    "#### Make a histogram showing the distribution of pixel values for the red channel:"
   ]
  },
  {
   "cell_type": "code",
   "execution_count": null,
   "metadata": {
    "collapsed": false
   },
   "outputs": [],
   "source": [
    "# turn matrix of pixel intensities into 1-D array using np.reshape():\n",
    "len_array = red_channel.shape[0]*red_channel.shape[1]\n",
    "red_array = np.reshape(red_channel, len_array)\n",
    "\n",
    "# make histogram \n",
    "hist = plt.hist(red_array)\n",
    "plt.xlabel('Pixel Values', fontsize = 22)\n",
    "plt.ylabel('Pixel Count', fontsize = 22)"
   ]
  },
  {
   "cell_type": "markdown",
   "metadata": {},
   "source": [
    "#### Display each channel individually as a black-and-white image (grayscale)<br>\n",
    "\n",
    "Make sure to set cmap = 'gray'\n",
    "\n",
    "Add a title using the plt.title() function. <Br>\n",
    "\n",
    "You can add a grayscale colorbar with the plt.colorbar() function"
   ]
  },
  {
   "cell_type": "code",
   "execution_count": null,
   "metadata": {
    "collapsed": false,
    "deletable": false,
    "nbgrader": {
     "checksum": "d5c2e61972dd8c5b2ecef90fe4449d72",
     "grade": true,
     "grade_id": "6",
     "locked": false,
     "points": 1,
     "solution": true
    }
   },
   "outputs": [],
   "source": [
    "# YOUR CODE HERE\n",
    "raise NotImplementedError()"
   ]
  },
  {
   "cell_type": "markdown",
   "metadata": {},
   "source": [
    "Same for the green channel: "
   ]
  },
  {
   "cell_type": "code",
   "execution_count": null,
   "metadata": {
    "collapsed": false,
    "deletable": false,
    "nbgrader": {
     "checksum": "e148d81adf9935001769b94576632eeb",
     "grade": true,
     "grade_id": "7",
     "locked": false,
     "points": 1,
     "solution": true
    }
   },
   "outputs": [],
   "source": [
    "# YOUR CODE HERE\n",
    "raise NotImplementedError()"
   ]
  },
  {
   "cell_type": "markdown",
   "metadata": {},
   "source": [
    "And for the blue channel..."
   ]
  },
  {
   "cell_type": "code",
   "execution_count": null,
   "metadata": {
    "collapsed": false,
    "deletable": false,
    "nbgrader": {
     "checksum": "30422743f0e2b461bf0ba34ee3095953",
     "grade": true,
     "grade_id": "8",
     "locked": false,
     "points": 1,
     "solution": true
    }
   },
   "outputs": [],
   "source": [
    "# YOUR CODE HERE\n",
    "raise NotImplementedError()"
   ]
  },
  {
   "cell_type": "markdown",
   "metadata": {},
   "source": [
    "Can you see from the grayscale images that the RGB image is mostly blue? "
   ]
  },
  {
   "cell_type": "markdown",
   "metadata": {
    "collapsed": true
   },
   "source": [
    "# Practice some basic PyGame commands:"
   ]
  },
  {
   "cell_type": "markdown",
   "metadata": {},
   "source": [
    "#### Getting the coordinates of the mouse:"
   ]
  },
  {
   "cell_type": "markdown",
   "metadata": {},
   "source": [
    "In pygame, you'll get the coordinates of the mouse cursor using the command <br>\n",
    "\n",
    "X,Y = pygame.mouse.get_pos()\n",
    "\n",
    "We'll assume for now that you already have the X and Y coordinates of the mouse cursor. \n",
    "\n",
    "**HINT**: X tells you which **column**; Y tells you which **row** "
   ]
  },
  {
   "cell_type": "code",
   "execution_count": null,
   "metadata": {
    "collapsed": true
   },
   "outputs": [],
   "source": [
    "X = 150\n",
    "Y = 200"
   ]
  },
  {
   "cell_type": "markdown",
   "metadata": {},
   "source": [
    "Grab the pixel intensity of each color in the X (column), Y (row) position. <br>\n",
    "\n",
    "**WARNING**: think about this slowly... X -> columns, Y -> rows... "
   ]
  },
  {
   "cell_type": "code",
   "execution_count": null,
   "metadata": {
    "collapsed": false,
    "deletable": false,
    "nbgrader": {
     "checksum": "e8ffbd8252a6194fd083a53dc9e1b83c",
     "grade": true,
     "grade_id": "9",
     "locked": false,
     "points": 1,
     "solution": true
    }
   },
   "outputs": [],
   "source": [
    "# YOUR CODE HERE\n",
    "raise NotImplementedError()\n",
    "print R_sig, G_sig, B_sig"
   ]
  },
  {
   "cell_type": "markdown",
   "metadata": {},
   "source": [
    "We'll map the pixel's intensity at each channel to the volume of the sound assigned to represent that channel. \n",
    "\n",
    "One way to do it is to normalize the intensity of the pixel by the maximum value of the entire channel. Do that for each channel, and store as volume variables (R_vol_pix, G_vol_pix, B_vol_pix)"
   ]
  },
  {
   "cell_type": "code",
   "execution_count": null,
   "metadata": {
    "collapsed": true,
    "deletable": false,
    "nbgrader": {
     "checksum": "2f913bba1a2b6b57e8f3bb9a2d087ca3",
     "grade": true,
     "grade_id": "10",
     "locked": false,
     "points": 1,
     "solution": true
    }
   },
   "outputs": [],
   "source": [
    "R_vol_pix = R_sig / np.float(max_red)\n",
    "# YOUR CODE HERE\n",
    "raise NotImplementedError()"
   ]
  },
  {
   "cell_type": "markdown",
   "metadata": {},
   "source": [
    "#### Loading and playing soundfiles using pygame"
   ]
  },
  {
   "cell_type": "code",
   "execution_count": null,
   "metadata": {
    "collapsed": true
   },
   "outputs": [],
   "source": [
    "# Start the mixer class: \n",
    "pygame.mixer.init()"
   ]
  },
  {
   "cell_type": "markdown",
   "metadata": {},
   "source": [
    "Choose three different instrument-notes from the \"sound_dir\" directory. <br>\n",
    "Load them as sounds using the pygame.mixer.Sound() function, and store them separately as soundRed, soundGreen, and soundBlue variables."
   ]
  },
  {
   "cell_type": "code",
   "execution_count": null,
   "metadata": {
    "collapsed": true,
    "deletable": false,
    "nbgrader": {
     "checksum": "43072f281eb96150106cb5809e1fccc8",
     "grade": true,
     "grade_id": "11",
     "locked": false,
     "points": 1,
     "solution": true
    }
   },
   "outputs": [],
   "source": [
    "soundRed=pygame.mixer.Sound(\"sound_dir/double-bass_C2.ogg\")\n",
    "# YOUR CODE HERE\n",
    "raise NotImplementedError()\n"
   ]
  },
  {
   "cell_type": "markdown",
   "metadata": {},
   "source": [
    "Set the volume of the sound using the set_volume(my_volume) function. \n",
    "\n",
    "Play each sound using the play() method.   "
   ]
  },
  {
   "cell_type": "markdown",
   "metadata": {},
   "source": [
    "Play the \"Red sound\""
   ]
  },
  {
   "cell_type": "code",
   "execution_count": null,
   "metadata": {
    "collapsed": false,
    "deletable": false,
    "nbgrader": {
     "checksum": "35bfa0a988245358672acbfbaf83c436",
     "grade": true,
     "grade_id": "12",
     "locked": false,
     "points": 1,
     "solution": true
    }
   },
   "outputs": [],
   "source": [
    "# YOUR CODE HERE\n",
    "raise NotImplementedError()"
   ]
  },
  {
   "cell_type": "markdown",
   "metadata": {},
   "source": [
    "Play the \"Green sound\""
   ]
  },
  {
   "cell_type": "code",
   "execution_count": null,
   "metadata": {
    "collapsed": false,
    "deletable": false,
    "nbgrader": {
     "checksum": "04b817b7e26a80adf07d83de54062ac9",
     "grade": true,
     "grade_id": "13",
     "locked": false,
     "points": 1,
     "solution": true
    }
   },
   "outputs": [],
   "source": [
    "# YOUR CODE HERE\n",
    "raise NotImplementedError()"
   ]
  },
  {
   "cell_type": "markdown",
   "metadata": {},
   "source": [
    "\"Play the Blue sound\""
   ]
  },
  {
   "cell_type": "code",
   "execution_count": null,
   "metadata": {
    "collapsed": false,
    "deletable": false,
    "nbgrader": {
     "checksum": "3614583e320b87e3a7c770f5f6141bc9",
     "grade": true,
     "grade_id": "14",
     "locked": false,
     "points": 1,
     "solution": true
    }
   },
   "outputs": [],
   "source": [
    "# YOUR CODE HERE\n",
    "raise NotImplementedError()"
   ]
  },
  {
   "cell_type": "markdown",
   "metadata": {},
   "source": [
    "You can play the three tones, one after the other, with a time delay as follows: "
   ]
  },
  {
   "cell_type": "code",
   "execution_count": null,
   "metadata": {
    "collapsed": true
   },
   "outputs": [],
   "source": [
    "sound_delay = 0.5 # in seconds\n",
    "\n",
    "soundRed.set_volume(R_vol_pix)\n",
    "soundRed.play()\n",
    "time.sleep(sound_delay)\n",
    "\n",
    "soundGreen.set_volume(G_vol_pix)\n",
    "soundGreen.play()\n",
    "time.sleep(sound_delay)\n",
    "\n",
    "soundBlue.set_volume(B_vol_pix)\n",
    "soundBlue.play()\n",
    "time.sleep(sound_delay)"
   ]
  },
  {
   "cell_type": "markdown",
   "metadata": {},
   "source": [
    "# Putting everything together in a Python Script"
   ]
  },
  {
   "cell_type": "markdown",
   "metadata": {},
   "source": [
    "Use Sublime Text Editor to open the file RGB_Synesthesia.py and follow the instructions. \n",
    "\n",
    "Since you've already done all the work here, feel free to copy-and-paste the relevant code to the relevant sections. "
   ]
  },
  {
   "cell_type": "markdown",
   "metadata": {},
   "source": [
    "Once you're done, to execute the code, open your terminal (Windows?), and in the directory where the script is stored, type:\n",
    "\n",
    "python RGB_Synesthesia.py"
   ]
  },
  {
   "cell_type": "code",
   "execution_count": null,
   "metadata": {
    "collapsed": true
   },
   "outputs": [],
   "source": []
  },
  {
   "cell_type": "code",
   "execution_count": null,
   "metadata": {
    "collapsed": true
   },
   "outputs": [],
   "source": []
  }
 ],
 "metadata": {
  "anaconda-cloud": {},
  "kernelspec": {
   "display_name": "Python [default]",
   "language": "python",
   "name": "python2"
  },
  "language_info": {
   "codemirror_mode": {
    "name": "ipython",
    "version": 2
   },
   "file_extension": ".py",
   "mimetype": "text/x-python",
   "name": "python",
   "nbconvert_exporter": "python",
   "pygments_lexer": "ipython2",
   "version": "2.7.12"
  }
 },
 "nbformat": 4,
 "nbformat_minor": 0
}
