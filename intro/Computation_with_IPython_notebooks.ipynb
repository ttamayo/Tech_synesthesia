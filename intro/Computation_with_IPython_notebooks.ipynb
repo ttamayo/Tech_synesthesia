{
 "cells": [
  {
   "cell_type": "markdown",
   "metadata": {
    "nbgrader": {
     "grade": false,
     "locked": false,
     "solution": false
    }
   },
   "source": [
    "Before you start, make sure that you have the correct kernel. Check if the kernel is \"Python 2\" (there is a legend in the upper right corner, below the \"Logout\" button). If it is not Python 2, select Kernel → Change Kernel → Python 2 in the menu bar.\n",
    "\n",
    "Make sure that you fill any place that says \"YOUR CODE HERE\" or \"YOUR ANSWER HERE\", and that you erase the line \"raise NotImplementedError()\" in the code cells.\n"
   ]
  },
  {
   "cell_type": "markdown",
   "metadata": {
    "deletable": false,
    "nbgrader": {
     "checksum": "1943c2cb4c3202714600303fe2f84ac3",
     "grade": false,
     "grade_id": "1",
     "locked": true,
     "solution": false
    }
   },
   "source": [
    "\n",
    "# Introduction to Computation with IPython notebooks\n",
    "\n",
    "\n",
    "![ipython logo](files/IPy_header.png)\n",
    "![python logo](files/python-logo-generic.svg)\n",
    "\n",
    "### What is it exactly?\n",
    "\n",
    "An IPython Notebook is an interactive environment for writing and running Python code, it is a **complete and self-contained record of a computation** that can be converted to various formats and shared with others.\n",
    "\n",
    "It is particularly popular in the scientific computing community since it is a great tool for interactive data analysis and visualization.\n",
    "\n",
    "You can combine:\n",
    "* Live code\n",
    "* Interactive widgets\n",
    "* Plots\n",
    "* Narrative text\n",
    "* Equations\n",
    "* Images\n",
    "* Video\n",
    "\n",
    " \n",
    "### A bit more...\n",
    "\n",
    "The Ipython project has recently expanded in the latest version 3.0 to include other types of computational kernels such as R, Julia, C++ and Matlab. For more information check the links at the bottom of this Ipython Notebook.\n",
    "\n",
    "### Why should you use Python? (Why not C++, Matlab, etc.)\n",
    "\n",
    "* Python is great for rapid development -- Got an idea? Than making a fast script is super faster.\n",
    "* There is a library for everything!\n",
    "* Learning curve is very small compared to many other languages.\n",
    "\n",
    "more: http://www.quora.com/Why-should-we-go-for-Python-Is-it-more-advanced-than-C++-or-Java\n",
    "\n",
    "### Let's Start!"
   ]
  },
  {
   "cell_type": "markdown",
   "metadata": {
    "deletable": false,
    "nbgrader": {
     "checksum": "4a6a219bdf2f425a089b11a7eb4ed49d",
     "grade": false,
     "grade_id": "2",
     "locked": true,
     "solution": false
    }
   },
   "source": [
    "# 1 IPython Basics\n",
    "## Running Code\n",
    "Run a code cell using `Shift-Enter` or pressing the <button class='btn btn-default btn-xs'> <i class=\"icon-play fa fa-play\"></i></button> button in the toolbar above:"
   ]
  },
  {
   "cell_type": "code",
   "execution_count": null,
   "metadata": {
    "collapsed": false,
    "deletable": false,
    "nbgrader": {
     "checksum": "d105bf30e70b0e9ba513af1a66506f3f",
     "grade": false,
     "grade_id": "3",
     "locked": true,
     "solution": false
    }
   },
   "outputs": [],
   "source": [
    "print( \"Hello World\")"
   ]
  },
  {
   "cell_type": "code",
   "execution_count": null,
   "metadata": {
    "collapsed": false,
    "deletable": false,
    "nbgrader": {
     "checksum": "608124851941f0516de6d1c5fc97446f",
     "grade": false,
     "grade_id": "4",
     "locked": true,
     "solution": false
    }
   },
   "outputs": [],
   "source": [
    "2+2 #?"
   ]
  },
  {
   "cell_type": "markdown",
   "metadata": {
    "deletable": false,
    "nbgrader": {
     "checksum": "c26931aa819028f17c40f8c66a96e6f4",
     "grade": false,
     "grade_id": "5",
     "locked": true,
     "solution": false
    }
   },
   "source": [
    "## Iterative computing\n",
    "The kernel maintains the state of a notebook's computations.\n",
    "\n",
    "For example you can save a variable or the result of a computation..."
   ]
  },
  {
   "cell_type": "code",
   "execution_count": null,
   "metadata": {
    "collapsed": true,
    "deletable": false,
    "nbgrader": {
     "checksum": "624bf906c327b4307542dc010eed3e9c",
     "grade": false,
     "grade_id": "6",
     "locked": true,
     "solution": false
    }
   },
   "outputs": [],
   "source": [
    "saved_var = \"How much is 2 x 4 ?\"\n",
    "saved_result = 2 * 4"
   ]
  },
  {
   "cell_type": "markdown",
   "metadata": {
    "deletable": false,
    "nbgrader": {
     "checksum": "e1e79bd2eb0e9f95f57680a9996b6b63",
     "grade": false,
     "grade_id": "7",
     "locked": true,
     "solution": false
    }
   },
   "source": [
    "and use later in another cell"
   ]
  },
  {
   "cell_type": "code",
   "execution_count": null,
   "metadata": {
    "collapsed": false,
    "deletable": false,
    "nbgrader": {
     "checksum": "c83beb12698960d27f3d3ed63f133e30",
     "grade": false,
     "grade_id": "8",
     "locked": true,
     "solution": false
    }
   },
   "outputs": [],
   "source": [
    "print(saved_var)\n",
    "print(saved_result)\n",
    "print(\"Magic!\")"
   ]
  },
  {
   "cell_type": "markdown",
   "metadata": {
    "deletable": false,
    "nbgrader": {
     "checksum": "ed5c30f27a0f83f2503bf5e601141c71",
     "grade": false,
     "grade_id": "9",
     "locked": true,
     "solution": false
    }
   },
   "source": [
    "## Stopping code\n",
    "Code is run in a separate process called the IPython Kernel.  The Kernel can be interrupted or restarted.  Try running the following cell and then hit the <button class='btn btn-default btn-xs'><i class='icon-stop fa fa-stop'></i></button> button in the toolbar above."
   ]
  },
  {
   "cell_type": "code",
   "execution_count": null,
   "metadata": {
    "collapsed": false,
    "deletable": false,
    "nbgrader": {
     "checksum": "58d1fe1a102f7f6bc573a4f724586826",
     "grade": false,
     "grade_id": "10",
     "locked": true,
     "solution": false
    }
   },
   "outputs": [],
   "source": [
    "import time\n",
    "time.sleep(10)"
   ]
  },
  {
   "cell_type": "markdown",
   "metadata": {
    "deletable": false,
    "nbgrader": {
     "checksum": "54ed44109a0fc89ee5e333c193d510d3",
     "grade": false,
     "grade_id": "11",
     "locked": true,
     "solution": false
    }
   },
   "source": [
    "Note: If the kernel is busy (it means it is running code) the dot in the upper right corner will be dark."
   ]
  },
  {
   "cell_type": "markdown",
   "metadata": {
    "deletable": false,
    "nbgrader": {
     "checksum": "10ce315e4b4a5247cf0d5aa65d997b90",
     "grade": false,
     "grade_id": "12",
     "locked": true,
     "solution": false
    }
   },
   "source": [
    "## Restarting\n",
    "\n",
    "You can reset this state by restarting the kernel. This is done by clicking on the <button class='btn btn-default btn-xs'><i class='fa fa-repeat icon-repeat'></i></button> in the toolbar above.\n",
    "\n",
    "Note: Every time you re-start a kernel, you need to run again the cells to save the variables, functions or computation results."
   ]
  },
  {
   "cell_type": "markdown",
   "metadata": {},
   "source": [
    "# Do you want to explore more?\n",
    "\n",
    "Take a Tour!!\n",
    "\n",
    "Select Help  → User Interface Tour  in the menu bar."
   ]
  },
  {
   "cell_type": "markdown",
   "metadata": {
    "deletable": false,
    "nbgrader": {
     "checksum": "36e13c9a444d1f8d08a828437fca5c84",
     "grade": false,
     "grade_id": "13",
     "locked": true,
     "solution": false
    }
   },
   "source": [
    "# 2 Python: Some Modules"
   ]
  },
  {
   "cell_type": "markdown",
   "metadata": {
    "deletable": false,
    "nbgrader": {
     "checksum": "ba11f19fed4c0f46db7d931052c9d299",
     "grade": false,
     "grade_id": "14",
     "locked": true,
     "solution": false
    }
   },
   "source": [
    "## 2.1 Import modules\n",
    "The modules in python are collections of functions or libraries that we can use by importing them.\n",
    "We need to import them before calling one of their functions.\n",
    "\n",
    "Check out the following examples:\n",
    "\n",
    "(Remember: for importing the module, you will need to execute the cells)"
   ]
  },
  {
   "cell_type": "code",
   "execution_count": null,
   "metadata": {
    "collapsed": false
   },
   "outputs": [],
   "source": [
    "import imageio # This module help us to modify and display images.\n",
    "\n",
    "# This command will allow us to display graphs and images inside of the notebook.\n",
    "%pylab inline "
   ]
  },
  {
   "cell_type": "code",
   "execution_count": null,
   "metadata": {
    "collapsed": true
   },
   "outputs": [],
   "source": [
    "import random           # This module provides random functions."
   ]
  },
  {
   "cell_type": "markdown",
   "metadata": {},
   "source": [
    "For example if we want to print a random number between 0 and 1, we could use a function called random inside of the random module in the following way:"
   ]
  },
  {
   "cell_type": "code",
   "execution_count": null,
   "metadata": {
    "collapsed": false
   },
   "outputs": [],
   "source": [
    "print random.random()   # This module has a function random, that returns a random number between 0 and 1"
   ]
  },
  {
   "cell_type": "markdown",
   "metadata": {},
   "source": [
    "When we call a function, we would like to avoid writing long words, so we can import them and given them a nickname."
   ]
  },
  {
   "cell_type": "code",
   "execution_count": null,
   "metadata": {
    "collapsed": true
   },
   "outputs": [],
   "source": [
    "import numpy as np               #  The module numpy (we'll discuss it later) is going to be called np\n",
    "import matplotlib.pyplot as plt  #  This module is for making plots.\n",
    "import matplotlib.image as mpimg #  This module is going to use to create and manipulate images\n",
    "%matplotlib inline"
   ]
  },
  {
   "cell_type": "markdown",
   "metadata": {},
   "source": [
    "Now let's take a closer look to this three modules."
   ]
  },
  {
   "cell_type": "markdown",
   "metadata": {},
   "source": [
    "## 2.2 Displaying images:"
   ]
  },
  {
   "cell_type": "markdown",
   "metadata": {},
   "source": [
    "If we want to \"read\" or \"charge\" an image stored in your computer we can use the module **matplotlib.image** (called **\"mpimg\"**). It will read an image of format (and extension) \".png\".\n",
    "\n",
    "Later, if we want to take a look of what we have store we can use the module **plt**."
   ]
  },
  {
   "cell_type": "code",
   "execution_count": null,
   "metadata": {
    "collapsed": false
   },
   "outputs": [],
   "source": [
    "# We'll read the image store in a file in the same directoru called \n",
    "# \"color_wheel.png\"\n",
    "# To do so, let's use the function  \"imread\" \n",
    "img=mpimg.imread('color_wheel.png')\n",
    "\n",
    "\n",
    "# Now, we shown the image store in the variable img, with the function\n",
    "# \"imshow\"\n",
    "plt.imshow(img)\n",
    "plt.show()"
   ]
  },
  {
   "cell_type": "markdown",
   "metadata": {},
   "source": [
    "**How did we stored the image?** \n",
    "\n",
    "Let's find it out. \n",
    "\n",
    "## Quick exercise: \n",
    "Print the variable **img**"
   ]
  },
  {
   "cell_type": "code",
   "execution_count": null,
   "metadata": {
    "collapsed": false,
    "deletable": false,
    "nbgrader": {
     "checksum": "8b5a6fec7f873590b984218ef9d6d1d9",
     "grade": true,
     "grade_id": "99",
     "locked": false,
     "points": 2,
     "solution": true
    }
   },
   "outputs": [],
   "source": [
    "# YOUR CODE HERE\n",
    "raise NotImplementedError()"
   ]
  },
  {
   "cell_type": "markdown",
   "metadata": {},
   "source": [
    "As you can see, this images is an array of many numbers (in this format with values between 0 and 1).\n",
    "\n",
    "We need to become experts on changing and manipulating images in Python, that is why we need to learn more about the different properties and ways to transform them."
   ]
  },
  {
   "cell_type": "markdown",
   "metadata": {
    "deletable": false,
    "nbgrader": {
     "checksum": "7b7732f3199fadecb0e3ce0177770931",
     "grade": false,
     "grade_id": "20",
     "locked": true,
     "solution": false
    }
   },
   "source": [
    "## 2.3 Arrays\n",
    "When we need to manipulate a list of integers or real numbers, we can use the Numpy module (want to know more? click on the image).\n",
    "\n",
    "[![](files/NumPy_logo.png)](http://www.numpy.org/)\n",
    "\n",
    "Let's check out some capabilities."
   ]
  },
  {
   "cell_type": "code",
   "execution_count": null,
   "metadata": {
    "collapsed": true
   },
   "outputs": [],
   "source": [
    "### 1 Dimension arrays: Vectors "
   ]
  },
  {
   "cell_type": "code",
   "execution_count": null,
   "metadata": {
    "collapsed": false,
    "deletable": false,
    "nbgrader": {
     "checksum": "32e88d5384ce34597745e457f0571c3c",
     "grade": false,
     "grade_id": "21",
     "locked": true,
     "solution": false
    }
   },
   "outputs": [],
   "source": [
    "numbers = np.arange(0,100,1) # an array of number 0 to 100, in increments of 1, not including 100\n",
    "print(numbers)"
   ]
  },
  {
   "cell_type": "markdown",
   "metadata": {
    "deletable": false,
    "nbgrader": {
     "checksum": "2265360c1b8afd9f26f99782a782a551",
     "grade": false,
     "grade_id": "22",
     "locked": true,
     "solution": false
    }
   },
   "source": [
    "what about empty arrays? Here we create a 5 x 1 vector of zeros:"
   ]
  },
  {
   "cell_type": "code",
   "execution_count": null,
   "metadata": {
    "collapsed": false,
    "deletable": false,
    "nbgrader": {
     "checksum": "4b8ad4e5ee786f7b84eff4574981ea38",
     "grade": false,
     "grade_id": "23",
     "locked": true,
     "solution": false
    },
    "scrolled": true
   },
   "outputs": [],
   "source": [
    "empty_array = np.zeros((5,1))\n",
    "empty_array"
   ]
  },
  {
   "cell_type": "markdown",
   "metadata": {
    "deletable": false,
    "nbgrader": {
     "checksum": "54da6a56f03fb1fe93d483d252e8e3db",
     "grade": false,
     "grade_id": "24",
     "locked": true,
     "solution": false
    }
   },
   "source": [
    "we can change values using \\[ index \\]:"
   ]
  },
  {
   "cell_type": "code",
   "execution_count": null,
   "metadata": {
    "collapsed": false,
    "deletable": false,
    "nbgrader": {
     "checksum": "de751883b6c36c60ec710b5b4f6ac402",
     "grade": false,
     "grade_id": "25",
     "locked": true,
     "solution": false
    }
   },
   "outputs": [],
   "source": [
    "empty_array[2] = 10 # manipulate third spot.\n",
    "empty_array"
   ]
  },
  {
   "cell_type": "markdown",
   "metadata": {
    "deletable": false,
    "nbgrader": {
     "checksum": "d22020c526cb343c944ce409bf5b7dd0",
     "grade": false,
     "grade_id": "26",
     "locked": true,
     "solution": false
    }
   },
   "source": [
    "Note: Indexing in python starts with zero! (So the first element of an array is element 0). \n",
    "Now let's generate a list of random integers:"
   ]
  },
  {
   "cell_type": "code",
   "execution_count": null,
   "metadata": {
    "collapsed": false,
    "deletable": false,
    "nbgrader": {
     "checksum": "7f75acd8ca70093066805cb0d75ed297",
     "grade": false,
     "grade_id": "27",
     "locked": true,
     "solution": false
    }
   },
   "outputs": [],
   "source": [
    "integers = np.random.randint(low=1,high=10, size=100)\n",
    "integers"
   ]
  },
  {
   "cell_type": "markdown",
   "metadata": {
    "deletable": false,
    "nbgrader": {
     "checksum": "97fcb4e19351ccae8d0c5f403dc6af77",
     "grade": false,
     "grade_id": "Quick_exercise1_q",
     "locked": true,
     "solution": false
    }
   },
   "source": [
    "## Quick exercise: \n",
    "Now in the next box write code to print the first element of the list of random integers you obtained in the previous box:"
   ]
  },
  {
   "cell_type": "code",
   "execution_count": null,
   "metadata": {
    "collapsed": false,
    "deletable": false,
    "nbgrader": {
     "checksum": "d3176874b1ed5c0ab092a91c62fb3bfb",
     "grade": true,
     "grade_id": "Quick_exercise1",
     "locked": false,
     "points": 1,
     "solution": true
    }
   },
   "outputs": [],
   "source": [
    "\n",
    "# YOUR CODE HERE\n",
    "raise NotImplementedError()"
   ]
  },
  {
   "cell_type": "markdown",
   "metadata": {
    "deletable": false,
    "nbgrader": {
     "checksum": "d42ca8bb8824a62d20652f8f21a5c114",
     "grade": false,
     "grade_id": "28-7",
     "locked": true,
     "solution": false
    }
   },
   "source": [
    "### Array utilities with numpy\n",
    "and we have many useful utilities to operate on arrays... say you want to\n",
    "* **Sort:** the we use **np.sort(array)**\n",
    "* **Find Max, Min:** the we use **np.min(array)**, **np.max(array)**\n",
    "* **Find index of Max or Min:** the we use **np.argmin(array)**, **np.argmax(array)**\n",
    "* **Calculate mean or std :** you guessed it **np.mean(array)**,**np.std(array)**\n"
   ]
  },
  {
   "cell_type": "code",
   "execution_count": null,
   "metadata": {
    "collapsed": false,
    "deletable": false,
    "nbgrader": {
     "checksum": "40da965d6a7f709bf195919a54613878",
     "grade": false,
     "grade_id": "29",
     "locked": true,
     "solution": false
    }
   },
   "outputs": [],
   "source": [
    "## For example:\n",
    "\n",
    "print(\"Sorted :\",np.sort(integers))\n",
    "print(\"Max:\",np.max(integers),\", Min:\",np.min(integers))\n",
    "print(\"Max at:\",np.argmax(integers),\", Min at:\",np.argmin(integers))\n",
    "print(\"Mean:\",np.mean(integers),\", Std:\",np.std(integers))"
   ]
  },
  {
   "cell_type": "markdown",
   "metadata": {
    "deletable": false,
    "nbgrader": {
     "checksum": "5f46bce8e10e689da4a84b2a221626f3",
     "grade": false,
     "grade_id": "30",
     "locked": true,
     "solution": false
    }
   },
   "source": [
    "### 2 Dimensions: Matrices\n",
    "\n",
    "You can use numpy to create matrices."
   ]
  },
  {
   "cell_type": "code",
   "execution_count": null,
   "metadata": {
    "collapsed": false,
    "deletable": false,
    "nbgrader": {
     "checksum": "73d9927a12695d788b2167e66204001b",
     "grade": false,
     "grade_id": "30-2",
     "locked": true,
     "solution": false
    },
    "scrolled": true
   },
   "outputs": [],
   "source": [
    "my_matrix = np.ones((5,3))  # A matrix of 5 * 3\n",
    "print(my_matrix)"
   ]
  },
  {
   "cell_type": "markdown",
   "metadata": {
    "deletable": false,
    "nbgrader": {
     "checksum": "cbd5f6146e4ad516f543d1a1c9369e8d",
     "grade": false,
     "grade_id": "30-3",
     "locked": true,
     "solution": false
    }
   },
   "source": [
    "As before, we can select a certain entry and modify it:"
   ]
  },
  {
   "cell_type": "code",
   "execution_count": null,
   "metadata": {
    "collapsed": false,
    "deletable": false,
    "nbgrader": {
     "checksum": "9132884434b7b2fd31c9417ee41e0e70",
     "grade": false,
     "grade_id": "30-4",
     "locked": true,
     "solution": false
    }
   },
   "outputs": [],
   "source": [
    "my_matrix[1,2] = 10\n",
    "print(my_matrix)"
   ]
  },
  {
   "cell_type": "markdown",
   "metadata": {
    "collapsed": true,
    "deletable": false,
    "nbgrader": {
     "checksum": "58fdcb239b7b8ef3297bc9d4637af8d8",
     "grade": false,
     "grade_id": "30-5",
     "locked": true,
     "solution": false
    }
   },
   "source": [
    "Or we can make numerical operations over it:"
   ]
  },
  {
   "cell_type": "code",
   "execution_count": null,
   "metadata": {
    "collapsed": false,
    "deletable": false,
    "nbgrader": {
     "checksum": "f4c83a85dbfe698a025ccfb8de0547c1",
     "grade": false,
     "grade_id": "30-6",
     "locked": true,
     "solution": false
    }
   },
   "outputs": [],
   "source": [
    "my_newmatrix = 2*my_matrix\n",
    "print(my_newmatrix)"
   ]
  },
  {
   "cell_type": "markdown",
   "metadata": {},
   "source": [
    "Let's make it more interesting, let's modify slices of this matrix (certain row or column):"
   ]
  },
  {
   "cell_type": "code",
   "execution_count": null,
   "metadata": {
    "collapsed": false
   },
   "outputs": [],
   "source": [
    "#  The notation [0,:] means \"the row 0 and all the columns\"\n",
    "my_newmatrix[0,:] = np.ones(3)      # we are filling the first row with ones\n",
    "my_newmatrix[4,:] = 100*np.ones(3)  # we are filling the last row with 100.\n",
    "\n",
    "print(my_newmatrix)\n"
   ]
  },
  {
   "cell_type": "code",
   "execution_count": null,
   "metadata": {
    "collapsed": false
   },
   "outputs": [],
   "source": [
    "# For printing the first row we'll use:\n",
    "print('The first row:')\n",
    "print(my_newmatrix[0,:]) \n",
    "\n",
    "# For printing the last column we'll use:\n",
    "print('The first column:')\n",
    "print(my_newmatrix[:,0])\n"
   ]
  },
  {
   "cell_type": "markdown",
   "metadata": {},
   "source": [
    "## Quick exercise: \n",
    "1. Build a 2-dimensional array of shape 5 x 5 of zeros.\n",
    "2. Fill the first column with 35.\n",
    "3. Print it."
   ]
  },
  {
   "cell_type": "code",
   "execution_count": null,
   "metadata": {
    "collapsed": false,
    "deletable": false,
    "nbgrader": {
     "checksum": "5ad3c0f05909546f77b7f1a5a9a4a209",
     "grade": true,
     "grade_id": "444",
     "locked": false,
     "points": 1,
     "solution": true
    }
   },
   "outputs": [],
   "source": [
    "# YOUR CODE HERE\n",
    "raise NotImplementedError()"
   ]
  },
  {
   "cell_type": "markdown",
   "metadata": {},
   "source": [
    "### 3 Dimensions: Cubes"
   ]
  },
  {
   "cell_type": "markdown",
   "metadata": {},
   "source": [
    "A 3 dimentional array (M x N x P) can be imaging as a cube of data, or as \"P\" matrices of shapes M x N (M rows y N columns). \n",
    "\n",
    "Some images are stored as arrays of 3 dimensions, each of these matrices are dedicated for a color channel (Red, Green and Blue or RGB)."
   ]
  },
  {
   "cell_type": "code",
   "execution_count": null,
   "metadata": {
    "collapsed": true
   },
   "outputs": [],
   "source": [
    "# 3 dimensions\n",
    "empty_3D = np.zeros((2, 4, 3)) "
   ]
  },
  {
   "cell_type": "markdown",
   "metadata": {},
   "source": [
    "Imagine this as an array with 3 matrices, of 2 X 4. \n",
    "\n",
    "We can fill each of this matrices in one step **(Note: This will be very usefule when we where using images).**"
   ]
  },
  {
   "cell_type": "code",
   "execution_count": null,
   "metadata": {
    "collapsed": false
   },
   "outputs": [],
   "source": [
    "empty_3D[:,:,0] = np.ones((2,4)) # A single matrix with 1's, two rows and 4 columns\n",
    "\n",
    "print(\"This is the first matrix of our array 3D\")\n",
    "print(empty_3D[:,:,0]) \n",
    "\n",
    "print(\"This is the second matrix of our array 3D\")\n",
    "print(empty_3D[:,:,1])"
   ]
  },
  {
   "cell_type": "markdown",
   "metadata": {},
   "source": [
    "To figure it out the dimensions of an array, we use **shape**"
   ]
  },
  {
   "cell_type": "code",
   "execution_count": null,
   "metadata": {
    "collapsed": false
   },
   "outputs": [],
   "source": [
    "print(\"The dimensions of our array are:\")\n",
    "print(empty_3D.shape)"
   ]
  },
  {
   "cell_type": "markdown",
   "metadata": {},
   "source": [
    "## Quick exercise: \n",
    "1. Build a 3-Dimensitonal array with a shape of 4 x 5 x 3, full of zeros. \n",
    "2. Fill the first matrix ([: , : ,0] with 1's and the third matrix with 4´s. \n",
    "3. Print the matrixes."
   ]
  },
  {
   "cell_type": "code",
   "execution_count": null,
   "metadata": {
    "collapsed": false,
    "deletable": false,
    "nbgrader": {
     "checksum": "51364b200e80c725b9dc175480431051",
     "grade": true,
     "grade_id": "90",
     "locked": false,
     "points": 3,
     "solution": true
    }
   },
   "outputs": [],
   "source": [
    "# YOUR CODE HERE\n",
    "raise NotImplementedError()"
   ]
  },
  {
   "cell_type": "markdown",
   "metadata": {},
   "source": [
    "Finally, we can always change the shape of our array with the function reshape:\n",
    "    \n",
    "For example, a matrix of 2 x 3 can be reshaped in a 1-Dimentional array of shape 6."
   ]
  },
  {
   "cell_type": "code",
   "execution_count": null,
   "metadata": {
    "collapsed": false
   },
   "outputs": [],
   "source": [
    "matrix_2D = np.ones((2,3))\n",
    "print('This is a 2 x 3 matrix')\n",
    "print(matrix_2D)\n",
    "\n",
    "array_1D = np.reshape(matrix_2D, 6)\n",
    "print('This is an array with 6 elements')\n",
    "print(array_1D)"
   ]
  },
  {
   "cell_type": "markdown",
   "metadata": {
    "deletable": false,
    "nbgrader": {
     "checksum": "1befa0379c42a8b04def50f574449b34",
     "grade": false,
     "grade_id": "31-3",
     "locked": true,
     "solution": false
    }
   },
   "source": [
    "*** An small review of Numpy.arrays:***\n",
    "* You can store numbers of a homogeneous type (all the entries must be either all integer numbers or all real numbers).\n",
    "* You can store arrays of multiple dimensions, for example matrices (this will be very useful for linear algebra calculations).\n",
    "* You can use several functions to manipulate them (for example: sort, multiply, linear algebra functions).\n",
    "* Generally they are used for numerical calculations, because numpy functions generally are optimized to have good performance (an efficient way to use time and memory of your computer). \n",
    "\n"
   ]
  },
  {
   "cell_type": "markdown",
   "metadata": {},
   "source": [
    "Now let's return to our image"
   ]
  },
  {
   "cell_type": "markdown",
   "metadata": {},
   "source": [
    "# 3 Understanding structure of an image "
   ]
  },
  {
   "cell_type": "markdown",
   "metadata": {},
   "source": [
    "Let's read the image again:"
   ]
  },
  {
   "cell_type": "code",
   "execution_count": null,
   "metadata": {
    "collapsed": false
   },
   "outputs": [],
   "source": [
    "img=mpimg.imread('color_wheel.png')\n",
    "plt.imshow(img)\n",
    "plt.show()"
   ]
  },
  {
   "cell_type": "markdown",
   "metadata": {},
   "source": [
    "## Quick exercise: \n",
    "\n",
    "What is the shape of your **img** array?\n"
   ]
  },
  {
   "cell_type": "code",
   "execution_count": null,
   "metadata": {
    "collapsed": false,
    "deletable": false,
    "nbgrader": {
     "checksum": "fc4c4499d99795c6965abb93b56ffef2",
     "grade": true,
     "grade_id": "990",
     "locked": false,
     "points": 1,
     "solution": true
    }
   },
   "outputs": [],
   "source": [
    "# YOUR CODE HERE\n",
    "raise NotImplementedError()"
   ]
  },
  {
   "cell_type": "markdown",
   "metadata": {},
   "source": [
    "## Quick question: \n",
    "\n",
    "How many channels does our image have? \n",
    "This as some matrices (2-D) inside of an 3-Dimentional array."
   ]
  },
  {
   "cell_type": "code",
   "execution_count": null,
   "metadata": {
    "collapsed": false,
    "deletable": false,
    "nbgrader": {
     "checksum": "c4159705f3fce411fd853f2c50a20a3f",
     "grade": true,
     "grade_id": "1900",
     "locked": false,
     "points": 1,
     "solution": true
    }
   },
   "outputs": [],
   "source": [
    "# YOUR CODE HERE\n",
    "raise NotImplementedError()"
   ]
  },
  {
   "cell_type": "markdown",
   "metadata": {},
   "source": [
    "## 4.1 Channels"
   ]
  },
  {
   "cell_type": "markdown",
   "metadata": {},
   "source": [
    "Ths digital images generally have 3 channels, Red, Green, and Blue. The first 3 matrices of our variable **img**, are\n",
    "the Red, Green and Blue channels, respectively."
   ]
  },
  {
   "cell_type": "code",
   "execution_count": null,
   "metadata": {
    "collapsed": true
   },
   "outputs": [],
   "source": [
    "red_channel = img[:,:,0]\n",
    "green_channel = img[:,:,1]\n",
    "blue_channel = img[:,:,2]"
   ]
  },
  {
   "cell_type": "markdown",
   "metadata": {},
   "source": [
    "What is the 4th channel? This channel is called alpha and it controls the transparency. We'll ignore it for the moment."
   ]
  },
  {
   "cell_type": "code",
   "execution_count": null,
   "metadata": {
    "collapsed": true
   },
   "outputs": [],
   "source": [
    "alpha_channel = img[:,:,3]"
   ]
  },
  {
   "cell_type": "markdown",
   "metadata": {},
   "source": [
    "Let's say we want to see only the red channel. We need to set all the other channels (green and blue) to zero and fill the red and alpha channels. "
   ]
  },
  {
   "cell_type": "code",
   "execution_count": null,
   "metadata": {
    "collapsed": false
   },
   "outputs": [],
   "source": [
    "# We define an empty array with the same dimensions of the image.\n",
    "img_red = np.zeros((730, 730, 4))\n",
    "\n",
    "# Let's fill the the red channel of img_red with the red channel of img\n",
    "img_red[:,:,0] = red_channel\n",
    "\n",
    "# Also, we are going to fix the alpha channel with same value of img \n",
    "img_red[:,:,3] = alpha_channel\n",
    "\n",
    "plt.imshow(img_red)\n",
    "plt.show()"
   ]
  },
  {
   "cell_type": "markdown",
   "metadata": {},
   "source": [
    "## Quick exercise: \n",
    "Now it is your turn. Print just the blue and green channels, as we did for the red one."
   ]
  },
  {
   "cell_type": "code",
   "execution_count": null,
   "metadata": {
    "collapsed": false,
    "deletable": false,
    "nbgrader": {
     "checksum": "ff64291959b8dabc5e3ac4af513d6171",
     "grade": true,
     "grade_id": "876",
     "locked": false,
     "points": 1,
     "solution": true
    }
   },
   "outputs": [],
   "source": [
    "### Write the code for your green image here\n",
    "# YOUR CODE HERE\n",
    "raise NotImplementedError()"
   ]
  },
  {
   "cell_type": "code",
   "execution_count": null,
   "metadata": {
    "collapsed": false,
    "deletable": false,
    "nbgrader": {
     "checksum": "d733057359bf0a8bc8cea85f52dd2ba5",
     "grade": true,
     "grade_id": "kl",
     "locked": false,
     "points": 1,
     "solution": true
    }
   },
   "outputs": [],
   "source": [
    "### Write the code for your green image here\n",
    "# YOUR CODE HERE\n",
    "raise NotImplementedError()"
   ]
  },
  {
   "cell_type": "markdown",
   "metadata": {},
   "source": [
    "Now, let's return to review some Python Basics"
   ]
  },
  {
   "cell_type": "markdown",
   "metadata": {
    "deletable": false,
    "nbgrader": {
     "checksum": "a4fe2e1834b27c592a51d2233918830f",
     "grade": false,
     "grade_id": "31-4",
     "locked": true,
     "solution": false
    }
   },
   "source": [
    "# Python Basics.\n",
    "\n",
    "## For loops\n",
    "A for loop goes over each element of a list, **note the spacing/indentation** after starting the for loop!"
   ]
  },
  {
   "cell_type": "code",
   "execution_count": null,
   "metadata": {
    "collapsed": false,
    "deletable": false,
    "nbgrader": {
     "checksum": "a4107ae44a12694a80cba437e61537a4",
     "grade": false,
     "grade_id": "32",
     "locked": true,
     "solution": false
    }
   },
   "outputs": [],
   "source": [
    "a_list = [\"taco\",\"pastor\",\"carnitas\",\"alambre\"]\n",
    "\n",
    "for i in a_list:\n",
    "    print(i)\n",
    "\n",
    "print(\"Done!\")"
   ]
  },
  {
   "cell_type": "markdown",
   "metadata": {
    "deletable": false,
    "nbgrader": {
     "checksum": "4aa782858ae0046b2f743ca51af22538",
     "grade": false,
     "grade_id": "33",
     "locked": true,
     "solution": false
    }
   },
   "source": [
    "You can write a nested loop, for example a double loop:"
   ]
  },
  {
   "cell_type": "code",
   "execution_count": null,
   "metadata": {
    "collapsed": false,
    "deletable": false,
    "nbgrader": {
     "checksum": "6c72666dec7313b65674b6a82876690a",
     "grade": false,
     "grade_id": "34",
     "locked": true,
     "solution": false
    }
   },
   "outputs": [],
   "source": [
    "for i in a_list:\n",
    "    for j in a_list:\n",
    "        print(i,j)\n",
    "print(\"Done!\")"
   ]
  },
  {
   "cell_type": "markdown",
   "metadata": {
    "deletable": false,
    "nbgrader": {
     "checksum": "13e8976a01a1bd908780e0185f6d92b6",
     "grade": false,
     "grade_id": "35",
     "locked": true,
     "solution": false
    }
   },
   "source": [
    "or a for loop running along with the index:"
   ]
  },
  {
   "cell_type": "code",
   "execution_count": null,
   "metadata": {
    "collapsed": false,
    "deletable": false,
    "nbgrader": {
     "checksum": "8f3cdd57db31897e4c956f5f342ca724",
     "grade": false,
     "grade_id": "36",
     "locked": true,
     "solution": false
    }
   },
   "outputs": [],
   "source": [
    "for index,item in enumerate(a_list):\n",
    "    print(index,item)\n",
    "\n",
    "print(\"Done!\")"
   ]
  },
  {
   "cell_type": "markdown",
   "metadata": {
    "deletable": false,
    "nbgrader": {
     "checksum": "bdfea0505c27f727e79072ce0ebec867",
     "grade": false,
     "grade_id": "37",
     "locked": true,
     "solution": false
    }
   },
   "source": [
    "**What if you want to sample randomly from this list?**\n",
    "\n",
    "Module *random* that we imported a few cells above comes to rescue! Re-run the cell many times to check if they are random.\n"
   ]
  },
  {
   "cell_type": "code",
   "execution_count": null,
   "metadata": {
    "collapsed": false,
    "deletable": false,
    "nbgrader": {
     "checksum": "b57ef0fe05f3c093afa05dfa94cd4956",
     "grade": false,
     "grade_id": "38",
     "locked": true,
     "solution": false
    }
   },
   "outputs": [],
   "source": [
    "rnd.sample(numbers,  1) # select 1"
   ]
  },
  {
   "cell_type": "code",
   "execution_count": null,
   "metadata": {
    "collapsed": false,
    "deletable": false,
    "nbgrader": {
     "checksum": "d232fb9456b8029794ac6e0a62a29c6b",
     "grade": false,
     "grade_id": "39",
     "locked": true,
     "solution": false
    }
   },
   "outputs": [],
   "source": [
    "rnd.sample(numbers,  3)"
   ]
  },
  {
   "cell_type": "markdown",
   "metadata": {
    "deletable": false,
    "nbgrader": {
     "checksum": "f3d3f5150474f9445fa2b74642ca88b6",
     "grade": false,
     "grade_id": "39_1",
     "locked": true,
     "solution": false
    }
   },
   "source": [
    "### What if you want to do a for loop over a series of numbers?\n",
    "We can use the for loops to go over a series of consecutive numbers with the use of range:"
   ]
  },
  {
   "cell_type": "code",
   "execution_count": null,
   "metadata": {
    "collapsed": false,
    "deletable": false,
    "nbgrader": {
     "checksum": "1ca06bab0450ca077d0334bbc0d93f7e",
     "grade": false,
     "grade_id": "39_2",
     "locked": true,
     "solution": false
    }
   },
   "outputs": [],
   "source": [
    "for i in range(2,5):  # Consecutive numbers from 2 to 5 (not including 5)\n",
    "    print(i)"
   ]
  },
  {
   "cell_type": "markdown",
   "metadata": {
    "deletable": false,
    "nbgrader": {
     "checksum": "b614a5e96494d97ba78c05dcb7f1034d",
     "grade": false,
     "grade_id": "39_3",
     "locked": true,
     "solution": false
    }
   },
   "source": [
    "Or we can use the indexes to do calculations:"
   ]
  },
  {
   "cell_type": "code",
   "execution_count": null,
   "metadata": {
    "collapsed": false,
    "deletable": false,
    "nbgrader": {
     "checksum": "df533723df7e08561dbd9b75607a5afc",
     "grade": false,
     "grade_id": "39_4",
     "locked": true,
     "solution": false
    }
   },
   "outputs": [],
   "source": [
    "res = 1\n",
    "for i in range(1,9):\n",
    "    res = res*i\n",
    "print(res)             "
   ]
  },
  {
   "cell_type": "markdown",
   "metadata": {
    "deletable": false,
    "nbgrader": {
     "checksum": "c303946376a50707743dd36ce82d9856",
     "grade": false,
     "grade_id": "39-5",
     "locked": true,
     "solution": false
    }
   },
   "source": [
    "The indexes are also important to fill a vector:"
   ]
  },
  {
   "cell_type": "code",
   "execution_count": null,
   "metadata": {
    "collapsed": false,
    "deletable": false,
    "nbgrader": {
     "checksum": "b4306863cde746d3abf9bb5e05220d05",
     "grade": false,
     "grade_id": "39-6",
     "locked": true,
     "solution": false
    },
    "scrolled": true
   },
   "outputs": [],
   "source": [
    "my_vector = np.zeros((3,1))\n",
    "for i in range(3):\n",
    "    my_vector[i] = i\n",
    "print(my_vector)"
   ]
  },
  {
   "cell_type": "markdown",
   "metadata": {
    "deletable": false,
    "nbgrader": {
     "checksum": "cba273050497787c2c1e909ea1a24df5",
     "grade": false,
     "grade_id": "Quick_exercise2_q",
     "locked": true,
     "solution": false
    }
   },
   "source": [
    "## Quick exercise: \n",
    "Starting from an empty matrix of size 3x3, use a double loop to get the following matrix and print it:\n",
    "```\n",
    "[[ 0.  1.  2.]\n",
    " [ 3.  4.  5.]\n",
    " [ 6.  7.  8.]]\n",
    " ```"
   ]
  },
  {
   "cell_type": "code",
   "execution_count": null,
   "metadata": {
    "collapsed": false,
    "deletable": false,
    "nbgrader": {
     "checksum": "a1191f065850e1c48bdfd4e3aba28ed4",
     "grade": true,
     "grade_id": "Quick_exercise2",
     "locked": false,
     "points": 2,
     "solution": true
    }
   },
   "outputs": [],
   "source": [
    "my_array = np.zeros((3,3))\n",
    "# YOUR CODE HERE\n",
    "raise NotImplementedError()\n",
    "print(my_array)"
   ]
  },
  {
   "cell_type": "markdown",
   "metadata": {
    "deletable": false,
    "nbgrader": {
     "checksum": "25f9968450d56e38a55d4f45886ca273",
     "grade": false,
     "grade_id": "40",
     "locked": true,
     "solution": false
    }
   },
   "source": [
    "## Help!\n",
    "\n",
    "*** What if you don't know how to use a function or all the available functions of a module? ***\n",
    "\n",
    "The help function is the solution :)\n",
    "\n",
    "Let's say we need to print, from the largest to the smallest, odd numbers between 11 to 2, and we know that the range function returns series. Let's see all of its capabilities:"
   ]
  },
  {
   "cell_type": "code",
   "execution_count": null,
   "metadata": {
    "collapsed": false,
    "deletable": false,
    "nbgrader": {
     "checksum": "835f3312ebb37f3384bc5aaac0c03b00",
     "grade": false,
     "grade_id": "40-2",
     "locked": true,
     "solution": false
    }
   },
   "outputs": [],
   "source": [
    "help(range)"
   ]
  },
  {
   "cell_type": "markdown",
   "metadata": {
    "collapsed": true,
    "deletable": false,
    "nbgrader": {
     "checksum": "1229e39e060fce1eed25fa476ce74184",
     "grade": false,
     "grade_id": "40-3",
     "locked": true,
     "solution": false
    }
   },
   "source": [
    "Hence we can write:"
   ]
  },
  {
   "cell_type": "code",
   "execution_count": null,
   "metadata": {
    "collapsed": false,
    "deletable": false,
    "nbgrader": {
     "checksum": "229744d4dd0524a99a325fe1b4b03e5a",
     "grade": false,
     "grade_id": "40-4",
     "locked": true,
     "solution": false
    }
   },
   "outputs": [],
   "source": [
    "for i in range(11,2,-2):\n",
    "    print(i)"
   ]
  },
  {
   "cell_type": "markdown",
   "metadata": {},
   "source": [
    "Now, that we know how to use these two control structures (for loops and conditionals).\n",
    "Let's use this for manipulating our image.\n",
    "\n",
    "Let's change to black the pixels with a red value bigger than 0.99."
   ]
  },
  {
   "cell_type": "code",
   "execution_count": null,
   "metadata": {
    "collapsed": false
   },
   "outputs": [],
   "source": [
    "# First let's make a copy of the red channel.\n",
    "red_channel_copy = np.copy(img[:,:,0])\n",
    "\n",
    "# and we made a copy of the image that we'll manipulate\n",
    "img_copy = np.copy(img)"
   ]
  },
  {
   "cell_type": "markdown",
   "metadata": {},
   "source": [
    "Now, let's use what we've learned, let's use a nested for loop."
   ]
  },
  {
   "cell_type": "code",
   "execution_count": null,
   "metadata": {
    "collapsed": true
   },
   "outputs": [],
   "source": [
    "dim1 = img.shape[0]\n",
    "dim2 = img.shape[1]\n",
    "for ind1 in range(dim1): # We iterate over all the rows\n",
    "    for ind2 in range(dim2): # and inside each row, we iterate the columns\n",
    "        if red_channel_copy[ind1, ind2] > 0.99: # if the pixes satifies the condition, \n",
    "            img_copy[ind1, ind2, 0] = 0 # We change it to black (R=G=B=0)\n",
    "            img_copy[ind1, ind2, 1] = 0\n",
    "            img_copy[ind1, ind2, 2] = 0"
   ]
  },
  {
   "cell_type": "markdown",
   "metadata": {},
   "source": [
    "Check out the identation after the conditional if."
   ]
  },
  {
   "cell_type": "code",
   "execution_count": null,
   "metadata": {
    "collapsed": false
   },
   "outputs": [],
   "source": [
    "# The original matrix\n",
    "plt.imshow(img)\n",
    "plt.show()"
   ]
  },
  {
   "cell_type": "code",
   "execution_count": null,
   "metadata": {
    "collapsed": false
   },
   "outputs": [],
   "source": [
    "# Now, we display the modified image.\n",
    "# Check that part of the yellow/orange fraction also satisfies the condition.\n",
    "plt.imshow(img_copy)"
   ]
  },
  {
   "cell_type": "markdown",
   "metadata": {},
   "source": [
    "## Quick exercise: \n",
    "Now it is your turn, find the pixels where the blue channel has a value bigger than 0.8.\n",
    "And change those pixels to white.\n",
    "\n",
    "**Note: Remember to make a copy of the original image**"
   ]
  },
  {
   "cell_type": "code",
   "execution_count": null,
   "metadata": {
    "collapsed": false,
    "deletable": false,
    "nbgrader": {
     "checksum": "d8452777f1c9a088d9cda84295d4fd88",
     "grade": true,
     "grade_id": "00990",
     "locked": false,
     "points": 1,
     "solution": true
    }
   },
   "outputs": [],
   "source": [
    "# YOUR CODE HERE\n",
    "raise NotImplementedError()"
   ]
  },
  {
   "cell_type": "markdown",
   "metadata": {
    "deletable": false,
    "nbgrader": {
     "checksum": "a54f4c3e354d45c7842ea132aedade2e",
     "grade": false,
     "grade_id": "41",
     "locked": true,
     "solution": false
    }
   },
   "source": [
    "## Functions\n",
    "\n",
    "Functions are named sections of a program that perform specific tasks. In a computational sense a function could either receive an input and *return* an output (in this sense it would be like a function in a more mathematical sense), but it can also be a routine, that just performs certain tasks without producing any output. \n",
    "\n",
    "This is an example: "
   ]
  },
  {
   "cell_type": "code",
   "execution_count": null,
   "metadata": {
    "collapsed": true
   },
   "outputs": [],
   "source": [
    "# This function let us visualize an image in a \"nicer\" way.\n",
    "def visualize_image(image):                   # use def to define the function\n",
    "    '''This function displays an image store in the variable image\n",
    "    INPUT:\n",
    "        image -> a 3dimentional array\n",
    "    OUTPUT:\n",
    "        nothing\n",
    "    '''\n",
    "    fig = plt.figure(figsize=(7,7))            # take note of the indentation!!!\n",
    "    ax = fig.add_subplot(111)\n",
    "    ax.imshow(image, interpolation=\"gaussian\")\n",
    "    ax.set_axis_bgcolor('k')\n",
    "    ax.get_xaxis().set_visible(False)\n",
    "    ax.get_yaxis().set_visible(False)\n",
    "    plt.show()\n",
    "    return\n",
    "\n"
   ]
  },
  {
   "cell_type": "code",
   "execution_count": null,
   "metadata": {
    "collapsed": false
   },
   "outputs": [],
   "source": [
    "## Now that we have that function, we can use it.\n",
    "visualize_image(img)"
   ]
  },
  {
   "cell_type": "markdown",
   "metadata": {},
   "source": [
    "## Dictionaries \n",
    "\n",
    "Just like a list or an array, a dictionary is a collection of many values. But unlike indexes for lists o arrays, indexes of dictionaries, we can use many different data types, not just integers. Indexes of dictionaries are called keys, and a key with its associated value is called a key-value pair. Unlike lists, items in dictionaries are unordered. The first item in a list named \"colors\" would be \"colors[0]\". There is no \"first\" item in a dictionary. \n",
    "\n",
    "Even though dictionaries are not ordered, the fact that you can have arbitrary values for the keys allows you to organize your data in powerful ways. Say you wanted your program to store data about your friend's telephone numbers. You can use a dictionary with the names as keys and the numbers as values. \n",
    "\n",
    "The following is an example of a dictionary:"
   ]
  },
  {
   "cell_type": "code",
   "execution_count": null,
   "metadata": {
    "collapsed": false
   },
   "outputs": [],
   "source": [
    "\"\"\"\n",
    "Say you want to create a new image from scratch, you want to define the channels and their entries. Yuo can use a\n",
    "dictionary to store the informtarion regarding this new image. You can then call every channel by their key value\n",
    "(name) and display its values (numeric entries).\n",
    "\"\"\"\n",
    "\n",
    "img2_channels = {\"red\": np.zeros((1,3)), \"blue\": np.ones((1,3)), \"green\": np.zeros((1,3))}\n",
    "\n",
    "#In the next for loop, we call the \"items()\" method dictionaries to print the keys and the values of the dictionary.\n",
    "\n",
    "for i in img2_channels.items():\n",
    "    print(i)"
   ]
  },
  {
   "cell_type": "markdown",
   "metadata": {},
   "source": [
    "Now let's analyze a more challenging example. We are going to create a dictionary that is going to store the \"RGB\" vector's numeric information. We will use this dictionary to convert a list of colors in text format, into a image! "
   ]
  },
  {
   "cell_type": "code",
   "execution_count": null,
   "metadata": {
    "collapsed": false
   },
   "outputs": [],
   "source": [
    "# First we create the dictionary with the rgb vectors\n",
    "rgb_vectors = {\"red\": np.array([1,0,0]), \"green\": np.array([0,1,0]), \"blue\": np.array([0,0,1])}\n",
    "\n",
    "# In the next line we create nested list that resembles a matrix whose entries a the colors in string format\n",
    "your_image_keys = [[\"blue\", \"blue\", \"red\"], [\"green\", \"red\", \"red\"], [\"green\", \"blue\", \"green\"]]\n",
    "\n",
    "# Here we initialize the matrix that is going to be converted into your image (with all the entries as zeroes)\n",
    "matrix_your_image = np.zeros((3,3,3))\n",
    "\n",
    "#Let's take a look at all the elements that we just created\n",
    "\n",
    "print(rgb_vectors)\n",
    "print(\"\\n\")\n",
    "print(your_image_keys)\n",
    "print(\"\\n\")\n",
    "print(matrix_your_image)"
   ]
  },
  {
   "cell_type": "code",
   "execution_count": null,
   "metadata": {
    "collapsed": false
   },
   "outputs": [],
   "source": [
    "\"\"\"\n",
    "Now we make use of a nested for loop in order replace the entries of your numeric matrix by the corresponding rgb \n",
    "vectors. In order to do thos, we first iterate over the elements of your nested list of colors. Then we map that\n",
    "information into our dictionary and replace every element of the null matrix by every rgb vector of the dictionary. \n",
    "\"\"\"\n",
    "\n",
    "for i,row in enumerate(your_image_keys): # Iterate over every row of the nested list\n",
    "    for j,element in enumerate(row): # Second iteration to scan every element of every row\n",
    "        color = str(element) # We take the string oof every element of the list \n",
    "        matrix_your_image[i,j,:] = rgb_vectors[color] # The dictionary take every string and pass that info as a vector\n",
    "        \n",
    "print(matrix_your_image)"
   ]
  },
  {
   "cell_type": "code",
   "execution_count": null,
   "metadata": {
    "collapsed": false
   },
   "outputs": [],
   "source": [
    "# Finally, we create our image making use of our past function to map matrices into images!\n",
    "visualize_image(matrix_your_image)"
   ]
  },
  {
   "cell_type": "markdown",
   "metadata": {
    "deletable": false,
    "nbgrader": {
     "checksum": "51ee6402792e40e98d103a2fb300d062",
     "grade": false,
     "grade_id": "42",
     "locked": true,
     "solution": false
    }
   },
   "source": [
    "## <i class=\"fa fa-line-chart\"></i> Basic Plotting\n",
    "[![](files/matplotlib_logo.png)](http://matplotlib.org/)\n",
    "\n",
    "First we load the module and inline plotting (want to know more? click on the image)"
   ]
  },
  {
   "cell_type": "code",
   "execution_count": null,
   "metadata": {
    "collapsed": false,
    "deletable": false,
    "nbgrader": {
     "checksum": "cedf76aff9528713c6bff9d1a78b1f23",
     "grade": false,
     "grade_id": "43",
     "locked": true,
     "solution": false
    }
   },
   "outputs": [],
   "source": [
    "import matplotlib.pyplot as plt # import module\n",
    "             \n",
    "# make plots appear on your ipython notebook\n",
    "%matplotlib inline"
   ]
  },
  {
   "cell_type": "markdown",
   "metadata": {
    "deletable": false,
    "nbgrader": {
     "checksum": "f06f60b7eafaf795d009f750da55a55e",
     "grade": false,
     "grade_id": "44",
     "locked": true,
     "solution": false
    }
   },
   "source": [
    "Now we can make simple plots via the following syntax"
   ]
  },
  {
   "cell_type": "code",
   "execution_count": null,
   "metadata": {
    "collapsed": false,
    "deletable": false,
    "nbgrader": {
     "checksum": "1d79ad6cb122aa439566fd82152eff25",
     "grade": false,
     "grade_id": "45",
     "locked": true,
     "solution": false
    }
   },
   "outputs": [],
   "source": [
    "x = np.arange(-np.pi, np.pi, 0.1) # array between -pi and pi, in steps of 0.1\n",
    "y = np.sin(x)                     # sin evaluated on x\n",
    "\n",
    "plt.plot(x,y,label='Sin')\n",
    "plt.show()"
   ]
  },
  {
   "cell_type": "markdown",
   "metadata": {
    "deletable": false,
    "nbgrader": {
     "checksum": "7db0dad7fa3f22442aa932871098b4d0",
     "grade": false,
     "grade_id": "45-5",
     "locked": true,
     "solution": false
    }
   },
   "source": [
    "we can even add more context to this plot with more functions"
   ]
  },
  {
   "cell_type": "code",
   "execution_count": null,
   "metadata": {
    "collapsed": false,
    "deletable": false,
    "nbgrader": {
     "checksum": "253d212f2c384f07e63479b4cf20f447",
     "grade": false,
     "grade_id": "46",
     "locked": true,
     "solution": false
    }
   },
   "outputs": [],
   "source": [
    "plt.plot(x,y,label='Sin')\n",
    "plt.xlabel(\"x\")\n",
    "plt.ylabel(\"f(x)\")\n",
    "plt.title('Sine plot')\n",
    "plt.autoscale(tight=True)\n",
    "plt.show()"
   ]
  },
  {
   "cell_type": "markdown",
   "metadata": {
    "collapsed": false,
    "deletable": false,
    "nbgrader": {
     "checksum": "92b4dea2d31b83426f49f935f92edbff",
     "grade": false,
     "grade_id": "47",
     "locked": true,
     "solution": false
    }
   },
   "source": [
    "### <i class=\"fa fa-line-chart\"></i> Histograms\n",
    "It's as simple as writing \"histogram\":"
   ]
  },
  {
   "cell_type": "code",
   "execution_count": null,
   "metadata": {
    "collapsed": false,
    "deletable": false,
    "nbgrader": {
     "checksum": "f25283b0062042648583479ad4ed1e49",
     "grade": false,
     "grade_id": "48",
     "locked": true,
     "solution": false
    }
   },
   "outputs": [],
   "source": [
    "integers = np.random.randint(low=0,high=10, size=100)\n",
    "plt.hist(integers)\n",
    "plt.show()"
   ]
  },
  {
   "cell_type": "markdown",
   "metadata": {},
   "source": [
    "Let's check out the distribution of values of the red channel:"
   ]
  },
  {
   "cell_type": "code",
   "execution_count": null,
   "metadata": {
    "collapsed": false
   },
   "outputs": [],
   "source": [
    "reds = img[:,:,0]    ## As before we are grabing just one chanel\n",
    "print (reds.shape)"
   ]
  },
  {
   "cell_type": "markdown",
   "metadata": {},
   "source": [
    "Converting matrix to array:"
   ]
  },
  {
   "cell_type": "code",
   "execution_count": null,
   "metadata": {
    "collapsed": false
   },
   "outputs": [],
   "source": [
    "reds_array = np.reshape(reds, (1, 730*730)) \n",
    "reds_array = reds_array[0,:]\n",
    "print (reds_array.shape)"
   ]
  },
  {
   "cell_type": "code",
   "execution_count": null,
   "metadata": {
    "collapsed": false
   },
   "outputs": [],
   "source": [
    "plt.hist(reds_array, 10)  ## Plotting the histrogram of intesities, with 10 bins\n",
    "plt.title('Frequency of intensities of red channel in 10 intervals')\n",
    "plt.ylabel('Frequency')\n",
    "plt.xlabel('Intensity')\n",
    "plt.show()"
   ]
  },
  {
   "cell_type": "markdown",
   "metadata": {
    "deletable": false,
    "nbgrader": {
     "checksum": "31e57157765eef4297031b6862b8e5fb",
     "grade": false,
     "grade_id": "49",
     "locked": true,
     "solution": false
    }
   },
   "source": [
    "### When plotting, don't forget to...\n",
    "\n",
    "* Label your axis.\n",
    "* Title your graph.\n",
    "* If plotting many items, use a legend.\n",
    "* Plot your data in an appropriate range."
   ]
  },
  {
   "cell_type": "markdown",
   "metadata": {
    "deletable": false,
    "nbgrader": {
     "checksum": "a6c83212cfbef30783a3c907929945a1",
     "grade": false,
     "grade_id": "51",
     "locked": true,
     "solution": false
    }
   },
   "source": [
    "# <i class=\"fa fa-bug\"></i> Debugging\n",
    "\n",
    "\n",
    "People make mistakes when they write computer programs. An error in a program that causes it to produce an incorrect or unexpected result is commonly called a *bug*, and the process of preventing and correcting bugs is called *debugging*. Programming bugs can be classified in different ways, but here we will just make a difference between *source code* bugs and *design* bugs. We will use the term \"source code bugs\" for those errors which are caused by either bad syntax or misinterpretation of the structures in the program, e.g., bad indentation in a for loop or trying to take the square root of a character type. Source code errors frequently produce error messages which help us to track them. By \"design errors,\" we will make reference to logic mistakes in the program. Specifically to those occasions in which your code runs and does not produce error messages but it does not do what it is supposed to do. In those cases you will have to look at the program and try to find what you are missing or doing wrong. \n"
   ]
  },
  {
   "cell_type": "markdown",
   "metadata": {
    "deletable": false,
    "nbgrader": {
     "checksum": "3d9b6e2bc0fe9339089b58cf381d4ffb",
     "grade": false,
     "grade_id": "bugs",
     "locked": true,
     "solution": false
    }
   },
   "source": [
    "## Before you venture into this brave new world of code\n",
    "### Check the following flow chart that might help\n",
    " **credits to: http://pythonforbiologists.com/ **\n",
    " \n",
    " ![](files/error_flowchart.png)"
   ]
  },
  {
   "cell_type": "markdown",
   "metadata": {
    "deletable": false,
    "nbgrader": {
     "checksum": "405d12dbefeb239e246cea8aad0d81db",
     "grade": false,
     "grade_id": "87",
     "locked": true,
     "solution": false
    }
   },
   "source": [
    "## <i class=\"fa fa-book\"></i> Further reading:\n",
    "\n",
    "### Installing Ipython on your computer:\n",
    "* http://nbviewer.ipython.org/github/demotu/BMC/blob/master/notebooks/PythonInstallation.ipynb\n",
    " \n",
    "### Squeezing all the juice from Ipython\n",
    "* https://github.com/odewahn/ipynb-examples\n",
    "* Ipython minibook: https://github.com/rossant/ipython-minibook http://nbviewer.ipython.org/github/barbagroup/AeroPython/blob/master/lessons/00_Lesson00_QuickPythonIntro.ipynb\n",
    " \n",
    "### Scientific computing con Python:\n",
    "* http://nbviewer.ipython.org/github/demotu/BMC/blob/master/notebooks/PythonForScientificComputing.ipynb\n",
    "* http://nbviewer.ipython.org/github/jrjohansson/scientific-python-lectures/blob/master/Lecture-1-Introduction-to-Python-Programming.ipynb\n",
    "\n",
    "### A gallery of interesting IPython Notebooks\n",
    "* https://github.com/ipython/ipython/wiki/A-gallery-of-interesting-IPython-Notebooks#introductory-tutorials\n",
    "\n",
    "### Kernels\n",
    "* Python(https://github.com/ipython/ipython)\n",
    "* Julia (https://github.com/JuliaLang/IJulia.jl)\n",
    "* R (https://github.com/takluyver/IRkernel)\n",
    "* Ruby (https://github.com/minrk/iruby)\n",
    "* Haskell (https://github.com/gibiansky/IHaskell)\n",
    "* Scala (https://github.com/Bridgewater/scala-notebook)\n",
    "* node.js (https://gist.github.com/Carreau/4279371)\n",
    "* Go (https://github.com/takluyver/igo)"
   ]
  },
  {
   "cell_type": "code",
   "execution_count": null,
   "metadata": {
    "collapsed": true
   },
   "outputs": [],
   "source": []
  },
  {
   "cell_type": "code",
   "execution_count": null,
   "metadata": {
    "collapsed": true
   },
   "outputs": [],
   "source": []
  },
  {
   "cell_type": "code",
   "execution_count": null,
   "metadata": {
    "collapsed": true
   },
   "outputs": [],
   "source": []
  },
  {
   "cell_type": "code",
   "execution_count": null,
   "metadata": {
    "collapsed": true
   },
   "outputs": [],
   "source": []
  },
  {
   "cell_type": "code",
   "execution_count": null,
   "metadata": {
    "collapsed": true
   },
   "outputs": [],
   "source": []
  },
  {
   "cell_type": "code",
   "execution_count": null,
   "metadata": {
    "collapsed": true
   },
   "outputs": [],
   "source": []
  },
  {
   "cell_type": "code",
   "execution_count": null,
   "metadata": {
    "collapsed": true
   },
   "outputs": [],
   "source": []
  },
  {
   "cell_type": "code",
   "execution_count": null,
   "metadata": {
    "collapsed": true
   },
   "outputs": [],
   "source": []
  },
  {
   "cell_type": "code",
   "execution_count": null,
   "metadata": {
    "collapsed": true
   },
   "outputs": [],
   "source": []
  },
  {
   "cell_type": "code",
   "execution_count": null,
   "metadata": {
    "collapsed": true
   },
   "outputs": [],
   "source": []
  },
  {
   "cell_type": "code",
   "execution_count": null,
   "metadata": {
    "collapsed": true
   },
   "outputs": [],
   "source": []
  },
  {
   "cell_type": "code",
   "execution_count": null,
   "metadata": {
    "collapsed": true
   },
   "outputs": [],
   "source": []
  },
  {
   "cell_type": "code",
   "execution_count": null,
   "metadata": {
    "collapsed": true
   },
   "outputs": [],
   "source": []
  },
  {
   "cell_type": "code",
   "execution_count": null,
   "metadata": {
    "collapsed": true
   },
   "outputs": [],
   "source": []
  },
  {
   "cell_type": "code",
   "execution_count": null,
   "metadata": {
    "collapsed": true
   },
   "outputs": [],
   "source": []
  },
  {
   "cell_type": "code",
   "execution_count": null,
   "metadata": {
    "collapsed": true
   },
   "outputs": [],
   "source": []
  },
  {
   "cell_type": "code",
   "execution_count": null,
   "metadata": {
    "collapsed": true
   },
   "outputs": [],
   "source": []
  },
  {
   "cell_type": "code",
   "execution_count": null,
   "metadata": {
    "collapsed": true
   },
   "outputs": [],
   "source": []
  },
  {
   "cell_type": "code",
   "execution_count": null,
   "metadata": {
    "collapsed": true
   },
   "outputs": [],
   "source": []
  },
  {
   "cell_type": "code",
   "execution_count": null,
   "metadata": {
    "collapsed": true
   },
   "outputs": [],
   "source": []
  },
  {
   "cell_type": "code",
   "execution_count": null,
   "metadata": {
    "collapsed": true
   },
   "outputs": [],
   "source": []
  },
  {
   "cell_type": "code",
   "execution_count": null,
   "metadata": {
    "collapsed": true
   },
   "outputs": [],
   "source": []
  },
  {
   "cell_type": "code",
   "execution_count": null,
   "metadata": {
    "collapsed": true
   },
   "outputs": [],
   "source": []
  },
  {
   "cell_type": "code",
   "execution_count": null,
   "metadata": {
    "collapsed": true
   },
   "outputs": [],
   "source": []
  },
  {
   "cell_type": "code",
   "execution_count": null,
   "metadata": {
    "collapsed": true
   },
   "outputs": [],
   "source": []
  },
  {
   "cell_type": "code",
   "execution_count": null,
   "metadata": {
    "collapsed": true
   },
   "outputs": [],
   "source": []
  }
 ],
 "metadata": {
  "anaconda-cloud": {},
  "kernelspec": {
   "display_name": "Python 3",
   "language": "python",
   "name": "python3"
  },
  "language_info": {
   "codemirror_mode": {
    "name": "ipython",
    "version": 3
   },
   "file_extension": ".py",
   "mimetype": "text/x-python",
   "name": "python",
   "nbconvert_exporter": "python",
   "pygments_lexer": "ipython3",
   "version": "3.4.5"
  }
 },
 "nbformat": 4,
 "nbformat_minor": 0
}
